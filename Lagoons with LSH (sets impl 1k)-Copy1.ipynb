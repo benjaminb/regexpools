{
 "cells": [
  {
   "cell_type": "code",
   "execution_count": 13,
   "metadata": {},
   "outputs": [],
   "source": [
    "import itertools\n",
    "import re\n",
    "import math\n",
    "import numpy as np\n",
    "import random\n",
    "import scipy.sparse as sparse\n",
    "import time\n",
    "from tqdm import trange, tqdm\n",
    "from bloom_filter import BloomFilter\n",
    "import lshash.lshash as lsh\n",
    "from IPython.display import display, clear_output"
   ]
  },
  {
   "cell_type": "markdown",
   "metadata": {},
   "source": [
    "# Read in regexes"
   ]
  },
  {
   "cell_type": "code",
   "execution_count": 2,
   "metadata": {},
   "outputs": [
    {
     "name": "stdout",
     "output_type": "stream",
     "text": [
      "306000\n"
     ]
    }
   ],
   "source": [
    "with open('random_strings.txt', 'r') as file:\n",
    "    regexes = [line.rstrip('\\n') for line in file]\n",
    "print(len(regexes))"
   ]
  },
  {
   "cell_type": "code",
   "execution_count": 3,
   "metadata": {},
   "outputs": [
    {
     "name": "stdout",
     "output_type": "stream",
     "text": [
      "1000\n"
     ]
    }
   ],
   "source": [
    "NUM_REGEX_CUTOFF = 1000 # for developement speed\n",
    "regexes = regexes[:NUM_REGEX_CUTOFF]\n",
    "num_regexes = len(regexes)\n",
    "print(num_regexes)"
   ]
  },
  {
   "cell_type": "code",
   "execution_count": 4,
   "metadata": {},
   "outputs": [],
   "source": [
    "compiled_regexes = [re.compile(re.escape(regex)) for regex in regexes]"
   ]
  },
  {
   "cell_type": "code",
   "execution_count": 5,
   "metadata": {},
   "outputs": [],
   "source": [
    "def string_to_ngram_set(text, n_lengths=[3]):\n",
    "    '''Takes in a string and parses it to 2,3, and 4-grams'''\n",
    "    for n in n_lengths:\n",
    "        for i in range(len(text) - n + 1):\n",
    "            yield text[i:i + n] # adds 2, 3, and 4-grams"
   ]
  },
  {
   "cell_type": "markdown",
   "metadata": {},
   "source": [
    "# Configure bloom filters"
   ]
  },
  {
   "cell_type": "code",
   "execution_count": 6,
   "metadata": {},
   "outputs": [
    {
     "name": "stdout",
     "output_type": "stream",
     "text": [
      "[0 0 0 0 0 0 0 0 0 0 0 0 0 0 0 0 0 0 0 0 0 0 0 0 0 0 0 0 0 0 0 0 0 0 0 0 0\n",
      " 0 0 0 0 0 0 0 0 0 0 0 0 0 0 0 0 0 0 0 0 0 0 0 0 0 0 0 0 0 0 0 0 0 0 0 0 0\n",
      " 0 0 0 0 0 0 0 0 0 0 0 0 0 0 0 0 0 0 0 0 0 0 0 0 0 0 0 0 0 0 0 0 0 0 0 0 0\n",
      " 0 0 0 0 0 0 0 0 0 0 0 0 0 0 0 0 0 0 0 0 0 0 0 0 0 0 0 0 0 0 0 0 0 0 0 0 0\n",
      " 0 0 0 0 0 0]\n",
      "Array bit length: 9856\n"
     ]
    }
   ],
   "source": [
    "# Create a bloom filter for each ngram, see if I can match it on a doc\n",
    "ARR_LENGTH = 1024\n",
    "\n",
    "def configure_bloom(some_set, max_elements=ARR_LENGTH, error_rate=0.1):\n",
    "    b = BloomFilter(max_elements=max_elements, error_rate=error_rate)\n",
    "    for obj in some_set:\n",
    "        b.add(obj)\n",
    "    return np.asarray(b.backend.array_)\n",
    "\n",
    "test_arr = configure_bloom(set())\n",
    "ARR_BIT_LENGTH = test_arr.nbytes * 8\n",
    "print(test_arr)\n",
    "print(f\"Array bit length: {ARR_BIT_LENGTH}\")"
   ]
  },
  {
   "cell_type": "markdown",
   "metadata": {},
   "source": [
    "## Create LSH bins"
   ]
  },
  {
   "cell_type": "code",
   "execution_count": 26,
   "metadata": {},
   "outputs": [],
   "source": [
    "def to_bit_array(x):\n",
    "    return np.unpackbits(x.view(np.uint8))\n",
    "\n",
    "def to_sparse_array(x):\n",
    "    return sparse.dok_matrix(x)\n",
    "\n",
    "def set_rep(string):\n",
    "    '''Creates a set representation of a bloom filter'''\n",
    "    trigrams = string_to_ngram_set(string)\n",
    "    bf = sparse.dok_matrix(\n",
    "            np.atleast_2d(to_bit_array(configure_bloom(trigrams)))\n",
    "        )\n",
    "    return {key[1] for key in bf.keys()}\n",
    "    \n",
    "def sparsify(regexes):\n",
    "    bf_arrays = (configure_bloom(string_to_ngram_set(regex)) for regex in regexes)\n",
    "    return [sparse.dok_matrix(np.atleast_2d(to_bit_array(arr))) for arr in bf_arrays]\n",
    "\n",
    "def sparsify_single(string):\n",
    "    return sparse.dok_matrix(np.atleast_2d(to_bit_array(configure_bloom(string_to_ngram_set(string)))))\n",
    "\n",
    "def construct_lsh(num_bins, data):\n",
    "    bits_needed = math.ceil(math.log2(num_bins))\n",
    "    bins = lsh.LSHash(bits_needed, data.shape[1])\n",
    "    for i, d in tqdm(enumerate(data)):\n",
    "        bins.index(d, extra_data=i) # save index\n",
    "    \n",
    "    # Create dictionary of pooled indices\n",
    "    tables = bins.hash_tables[0]\n",
    "    keys = list(tables.keys())\n",
    "    bin_dict = {key: [] for key in keys}\n",
    "    for key in keys:\n",
    "        for tup in tables.get_list(key):\n",
    "            bin_dict[key].append(tup[1])\n",
    "    return bins, bin_dict\n",
    "\n",
    "def regex_to_bit_array(regex):\n",
    "    bf = configure_bloom(string_to_ngram_set(regex))\n",
    "    return to_bit_array(bf)\n",
    "\n",
    "def regexes_to_bit_arrays(regexes):\n",
    "    bf_arrays = [configure_bloom(string_to_ngram_set(regex)) for regex in regexes]\n",
    "    bit_arrays = np.vstack([to_bit_array(arr) for arr in bf_arrays])\n",
    "    return bit_arrays\n",
    "\n",
    "def convert_regexes(regexes):\n",
    "    return np.vstack([regex_to_bit_array(r) for r in regexes])\n",
    "\n",
    "def sparse_intersection(pair):\n",
    "    return pair[0].multiply(pair[1]).count_nonzero()"
   ]
  },
  {
   "cell_type": "code",
   "execution_count": 35,
   "metadata": {},
   "outputs": [
    {
     "name": "stdout",
     "output_type": "stream",
     "text": [
      "1000\n"
     ]
    }
   ],
   "source": [
    "sparse_arrs = sparsify(regexes)\n",
    "print(len(sparse_arrs))"
   ]
  },
  {
   "cell_type": "code",
   "execution_count": 32,
   "metadata": {},
   "outputs": [
    {
     "data": {
      "text/plain": [
       "1000"
      ]
     },
     "execution_count": 32,
     "metadata": {},
     "output_type": "execute_result"
    }
   ],
   "source": [
    "sets = [set_rep(regex) for regex in regexes]\n",
    "len(sets)"
   ]
  },
  {
   "cell_type": "markdown",
   "metadata": {},
   "source": [
    "### Create lagoons (pools of pools)"
   ]
  },
  {
   "cell_type": "code",
   "execution_count": 42,
   "metadata": {},
   "outputs": [],
   "source": [
    "SIZE_TO_EVAL = 5 # when a pool contains this or fewer regexes, evaluate the regexes\n",
    "MIN_INTERSECTION = 5 # min number of bits on which arrays should intersect in order to pool\n",
    "\n",
    "class Lagoon:\n",
    "    def __init__(self, pools, pools_in_row, num_rows_in_pool):\n",
    "        self.pools = pools\n",
    "        self.pool_members = pools_in_row\n",
    "        self.pool_counts = num_rows_in_pool\n",
    "        self.nrows = len(pools)"
   ]
  },
  {
   "cell_type": "code",
   "execution_count": 33,
   "metadata": {},
   "outputs": [],
   "source": [
    "def matches(query, pool_array):\n",
    "    # Every key in pool_array is present in query\n",
    "    for key in pool_array:\n",
    "        if key not in query:\n",
    "            return False\n",
    "    return True\n",
    "\n",
    "def get_closest_candidates(arr, bins, min_intersection, num_results):\n",
    "    results = bins.query(arr, num_results=num_results, distance_func=\"hamming\")\n",
    "    results = [result[1] for result in results] # extract indices # TODO: filter distance here as well?\n",
    "    if len(results) > 1:\n",
    "        return set(results[1:])\n",
    "    else:\n",
    "        return None\n",
    "\n",
    "def construct_lagoon(arrs, sets):\n",
    "    '''arrs: tuple of dok row matrices\n",
    "       sets: list of '''\n",
    "    # Construct LSH bins and extract binned indices\n",
    "    nrows = len(arrs)\n",
    "    num_bins = nrows // 5\n",
    "    \n",
    "    # Convert tuple of DOKs to numpy array\n",
    "    # TODO: hold on to original np array so this doesn't have to be done?\n",
    "    arrs_np = np.vstack([dok.toarray() for dok in arrs])\n",
    "    \n",
    "    # Get bins & set up lagoon attributes\n",
    "    bins, bin_dict = construct_lsh(num_bins, arrs_np)\n",
    "    pool_members = []; pools = []; pool_counts = []\n",
    "    \n",
    "    def intersection_size(set1, set2):\n",
    "        return len(set1.intersection(set2))\n",
    "    \n",
    "    # Pool the highest bit intersection from each bin\n",
    "    for key, index_list in bin_dict.items():\n",
    "        clear_output()\n",
    "        pairs = itertools.combinations(index_list, 2)\n",
    "        if len(index_list) > 1:              \n",
    "            print(\"Pair:\", pairs)\n",
    "            m1, m2 = max(pairs, key = lambda p: intersection_size(sets[p[1]], sets[p[2]]))\n",
    "            overlap = intersection_size(sets[m1], sets[m2])\n",
    "            display(f\"Closest pair: {(m1, m2)}, intersection {overlap}\")\n",
    "        \n",
    "            if overlap >= MIN_INTERSECTION:\n",
    "                index_list.remove(m1)\n",
    "                index_list.remove(m2)\n",
    "                pool_members.append((m1, m2))\n",
    "                pooled_set = sets[m1].intersection(sets[m2])\n",
    "                pools.append(pooled_set) # Allocate memory ahead of time?\n",
    "                pool_counts.append(2)\n",
    "        \n",
    "        # Add remaining singletons to pool\n",
    "        for idx in index_list:\n",
    "            pools.append(sets[idx])\n",
    "            pool_members.append([idx])\n",
    "            pool_counts.append(1) \n",
    "\n",
    "    return Lagoon(pools, pool_members, pool_counts)\n",
    "\n",
    "\n",
    "def construct_next_lagoon(previous):\n",
    "    lagoon = construct_lagoon(previous.pools)\n",
    "    \n",
    "    for i, members in enumerate(lagoon.pool_members):\n",
    "        lagoon.pool_counts[i] = sum([previous.pool_counts[member] for member in members])\n",
    "    return lagoon\n",
    "\n",
    "def create_lagoon_list(bf, max_length=3):\n",
    "    lagoons = [construct_lagoon(bf)]\n",
    "    while len(lagoons) < max_length:\n",
    "        next_lagoon = construct_next_lagoon(lagoons[-1])\n",
    "        # No more progress can be made if # rows stays the same\n",
    "        if len(next_lagoon.pools) == len(lagoons[-1].pools):\n",
    "            break\n",
    "        lagoons.append(next_lagoon)\n",
    "    lagoons.reverse()\n",
    "    return lagoons"
   ]
  },
  {
   "cell_type": "code",
   "execution_count": 44,
   "metadata": {},
   "outputs": [],
   "source": [
    "def construct_next_lagoon_sp(previous):\n",
    "    lagoon = construct_lagoon(previous.pools)\n",
    "    \n",
    "    for i, members in enumerate(lagoon.pool_members):\n",
    "        lagoon.pool_counts[i] = sum([previous.pool_counts[member] for member in members])\n",
    "        arr = lagoon.pools[i]  # Reset the members from previous pool's array to the XOR\n",
    "        for row in members:\n",
    "            # The XOR in this case is child - parent, since parent is a subset of the child array\n",
    "            previous.pools[row] = previous.pools[row] - arr\n",
    "    return lagoon\n",
    "\n",
    "def create_lagoon_list_sp(bf, max_length=3):\n",
    "    lagoons = [construct_lagoon(bf)]\n",
    "    while len(lagoons) < max_length:\n",
    "        next_lagoon = construct_next_lagoon(lagoons[-1])\n",
    "        # No more progress can be made if # rows stays the same\n",
    "        if len(next_lagoon.pools) == len(lagoons[-1].pools): # change to nrows\n",
    "            break\n",
    "        lagoons.append(next_lagoon)\n",
    "    lagoons.reverse()\n",
    "    return lagoons"
   ]
  },
  {
   "cell_type": "code",
   "execution_count": 36,
   "metadata": {},
   "outputs": [
    {
     "name": "stdout",
     "output_type": "stream",
     "text": [
      "Pair: <itertools.combinations object at 0x7fb6e11c2f50>\n"
     ]
    },
    {
     "ename": "IndexError",
     "evalue": "tuple index out of range",
     "output_type": "error",
     "traceback": [
      "\u001b[0;31m---------------------------------------------------------------------------\u001b[0m",
      "\u001b[0;31mIndexError\u001b[0m                                Traceback (most recent call last)",
      "\u001b[0;32m<ipython-input-36-980d24d7b47f>\u001b[0m in \u001b[0;36m<module>\u001b[0;34m()\u001b[0m\n\u001b[0;32m----> 1\u001b[0;31m \u001b[0mconstruct_lagoon\u001b[0m\u001b[0;34m(\u001b[0m\u001b[0msparse_arrs\u001b[0m\u001b[0;34m,\u001b[0m \u001b[0msets\u001b[0m\u001b[0;34m)\u001b[0m\u001b[0;34m\u001b[0m\u001b[0;34m\u001b[0m\u001b[0m\n\u001b[0m",
      "\u001b[0;32m<ipython-input-33-35a6e8242ec2>\u001b[0m in \u001b[0;36mconstruct_lagoon\u001b[0;34m(arrs, sets)\u001b[0m\n\u001b[1;32m     38\u001b[0m         \u001b[0;32mif\u001b[0m \u001b[0mlen\u001b[0m\u001b[0;34m(\u001b[0m\u001b[0mindex_list\u001b[0m\u001b[0;34m)\u001b[0m \u001b[0;34m>\u001b[0m \u001b[0;36m1\u001b[0m\u001b[0;34m:\u001b[0m\u001b[0;34m\u001b[0m\u001b[0;34m\u001b[0m\u001b[0m\n\u001b[1;32m     39\u001b[0m             \u001b[0mprint\u001b[0m\u001b[0;34m(\u001b[0m\u001b[0;34m\"Pair:\"\u001b[0m\u001b[0;34m,\u001b[0m \u001b[0mpairs\u001b[0m\u001b[0;34m)\u001b[0m\u001b[0;34m\u001b[0m\u001b[0;34m\u001b[0m\u001b[0m\n\u001b[0;32m---> 40\u001b[0;31m             \u001b[0mm1\u001b[0m\u001b[0;34m,\u001b[0m \u001b[0mm2\u001b[0m \u001b[0;34m=\u001b[0m \u001b[0mmax\u001b[0m\u001b[0;34m(\u001b[0m\u001b[0mpairs\u001b[0m\u001b[0;34m,\u001b[0m \u001b[0mkey\u001b[0m \u001b[0;34m=\u001b[0m \u001b[0;32mlambda\u001b[0m \u001b[0mp\u001b[0m\u001b[0;34m:\u001b[0m \u001b[0mintersection_size\u001b[0m\u001b[0;34m(\u001b[0m\u001b[0msets\u001b[0m\u001b[0;34m[\u001b[0m\u001b[0mp\u001b[0m\u001b[0;34m[\u001b[0m\u001b[0;36m1\u001b[0m\u001b[0;34m]\u001b[0m\u001b[0;34m]\u001b[0m\u001b[0;34m,\u001b[0m \u001b[0msets\u001b[0m\u001b[0;34m[\u001b[0m\u001b[0mp\u001b[0m\u001b[0;34m[\u001b[0m\u001b[0;36m2\u001b[0m\u001b[0;34m]\u001b[0m\u001b[0;34m]\u001b[0m\u001b[0;34m)\u001b[0m\u001b[0;34m)\u001b[0m\u001b[0;34m\u001b[0m\u001b[0;34m\u001b[0m\u001b[0m\n\u001b[0m\u001b[1;32m     41\u001b[0m             \u001b[0moverlap\u001b[0m \u001b[0;34m=\u001b[0m \u001b[0mintersection_size\u001b[0m\u001b[0;34m(\u001b[0m\u001b[0msets\u001b[0m\u001b[0;34m[\u001b[0m\u001b[0mm1\u001b[0m\u001b[0;34m]\u001b[0m\u001b[0;34m,\u001b[0m \u001b[0msets\u001b[0m\u001b[0;34m[\u001b[0m\u001b[0mm2\u001b[0m\u001b[0;34m]\u001b[0m\u001b[0;34m)\u001b[0m\u001b[0;34m\u001b[0m\u001b[0;34m\u001b[0m\u001b[0m\n\u001b[1;32m     42\u001b[0m             \u001b[0mdisplay\u001b[0m\u001b[0;34m(\u001b[0m\u001b[0;34mf\"Closest pair: {(m1, m2)}, intersection {overlap}\"\u001b[0m\u001b[0;34m)\u001b[0m\u001b[0;34m\u001b[0m\u001b[0;34m\u001b[0m\u001b[0m\n",
      "\u001b[0;32m<ipython-input-33-35a6e8242ec2>\u001b[0m in \u001b[0;36m<lambda>\u001b[0;34m(p)\u001b[0m\n\u001b[1;32m     38\u001b[0m         \u001b[0;32mif\u001b[0m \u001b[0mlen\u001b[0m\u001b[0;34m(\u001b[0m\u001b[0mindex_list\u001b[0m\u001b[0;34m)\u001b[0m \u001b[0;34m>\u001b[0m \u001b[0;36m1\u001b[0m\u001b[0;34m:\u001b[0m\u001b[0;34m\u001b[0m\u001b[0;34m\u001b[0m\u001b[0m\n\u001b[1;32m     39\u001b[0m             \u001b[0mprint\u001b[0m\u001b[0;34m(\u001b[0m\u001b[0;34m\"Pair:\"\u001b[0m\u001b[0;34m,\u001b[0m \u001b[0mpairs\u001b[0m\u001b[0;34m)\u001b[0m\u001b[0;34m\u001b[0m\u001b[0;34m\u001b[0m\u001b[0m\n\u001b[0;32m---> 40\u001b[0;31m             \u001b[0mm1\u001b[0m\u001b[0;34m,\u001b[0m \u001b[0mm2\u001b[0m \u001b[0;34m=\u001b[0m \u001b[0mmax\u001b[0m\u001b[0;34m(\u001b[0m\u001b[0mpairs\u001b[0m\u001b[0;34m,\u001b[0m \u001b[0mkey\u001b[0m \u001b[0;34m=\u001b[0m \u001b[0;32mlambda\u001b[0m \u001b[0mp\u001b[0m\u001b[0;34m:\u001b[0m \u001b[0mintersection_size\u001b[0m\u001b[0;34m(\u001b[0m\u001b[0msets\u001b[0m\u001b[0;34m[\u001b[0m\u001b[0mp\u001b[0m\u001b[0;34m[\u001b[0m\u001b[0;36m1\u001b[0m\u001b[0;34m]\u001b[0m\u001b[0;34m]\u001b[0m\u001b[0;34m,\u001b[0m \u001b[0msets\u001b[0m\u001b[0;34m[\u001b[0m\u001b[0mp\u001b[0m\u001b[0;34m[\u001b[0m\u001b[0;36m2\u001b[0m\u001b[0;34m]\u001b[0m\u001b[0;34m]\u001b[0m\u001b[0;34m)\u001b[0m\u001b[0;34m)\u001b[0m\u001b[0;34m\u001b[0m\u001b[0;34m\u001b[0m\u001b[0m\n\u001b[0m\u001b[1;32m     41\u001b[0m             \u001b[0moverlap\u001b[0m \u001b[0;34m=\u001b[0m \u001b[0mintersection_size\u001b[0m\u001b[0;34m(\u001b[0m\u001b[0msets\u001b[0m\u001b[0;34m[\u001b[0m\u001b[0mm1\u001b[0m\u001b[0;34m]\u001b[0m\u001b[0;34m,\u001b[0m \u001b[0msets\u001b[0m\u001b[0;34m[\u001b[0m\u001b[0mm2\u001b[0m\u001b[0;34m]\u001b[0m\u001b[0;34m)\u001b[0m\u001b[0;34m\u001b[0m\u001b[0;34m\u001b[0m\u001b[0m\n\u001b[1;32m     42\u001b[0m             \u001b[0mdisplay\u001b[0m\u001b[0;34m(\u001b[0m\u001b[0;34mf\"Closest pair: {(m1, m2)}, intersection {overlap}\"\u001b[0m\u001b[0;34m)\u001b[0m\u001b[0;34m\u001b[0m\u001b[0;34m\u001b[0m\u001b[0m\n",
      "\u001b[0;31mIndexError\u001b[0m: tuple index out of range"
     ]
    }
   ],
   "source": [
    "construct_lagoon(sparse_arrs, sets)"
   ]
  },
  {
   "cell_type": "code",
   "execution_count": 46,
   "metadata": {},
   "outputs": [
    {
     "name": "stdout",
     "output_type": "stream",
     "text": [
      "15.988216876983643\n"
     ]
    }
   ],
   "source": [
    "start = time.time()\n",
    "lagoons = create_lagoon_list(sparse_arrs, max_length=8)\n",
    "end = time.time()\n",
    "print(end - start)"
   ]
  },
  {
   "cell_type": "code",
   "execution_count": 47,
   "metadata": {},
   "outputs": [
    {
     "name": "stdout",
     "output_type": "stream",
     "text": [
      "17.59111499786377\n"
     ]
    }
   ],
   "source": [
    "start = time.time()\n",
    "lagoons2 = create_lagoon_list_sp(sparse_arrs, max_length=8)\n",
    "end = time.time()\n",
    "print(end - start)"
   ]
  },
  {
   "cell_type": "code",
   "execution_count": 48,
   "metadata": {},
   "outputs": [
    {
     "name": "stdout",
     "output_type": "stream",
     "text": [
      "(<1x9856 sparse matrix of type '<class 'numpy.uint8'>'\n",
      "\twith 12 stored elements in Dictionary Of Keys format>, <1x9856 sparse matrix of type '<class 'numpy.uint8'>'\n",
      "\twith 12 stored elements in Dictionary Of Keys format>, <1x9856 sparse matrix of type '<class 'numpy.uint8'>'\n",
      "\twith 12 stored elements in Dictionary Of Keys format>, <1x9856 sparse matrix of type '<class 'numpy.uint8'>'\n",
      "\twith 12 stored elements in Dictionary Of Keys format>, <1x9856 sparse matrix of type '<class 'numpy.uint8'>'\n",
      "\twith 7 stored elements in Dictionary Of Keys format>, <1x9856 sparse matrix of type '<class 'numpy.uint8'>'\n",
      "\twith 21 stored elements in Dictionary Of Keys format>, <1x9856 sparse matrix of type '<class 'numpy.uint8'>'\n",
      "\twith 11 stored elements in Dictionary Of Keys format>, <1x9856 sparse matrix of type '<class 'numpy.uint8'>'\n",
      "\twith 52 stored elements in Dictionary Of Keys format>, <1x9856 sparse matrix of type '<class 'numpy.uint8'>'\n",
      "\twith 40 stored elements in Dictionary Of Keys format>, <1x9856 sparse matrix of type '<class 'numpy.uint8'>'\n",
      "\twith 12 stored elements in Dictionary Of Keys format>, <1x9856 sparse matrix of type '<class 'numpy.uint8'>'\n",
      "\twith 5 stored elements in Dictionary Of Keys format>, <1x9856 sparse matrix of type '<class 'numpy.uint8'>'\n",
      "\twith 13 stored elements in Dictionary Of Keys format>, <1x9856 sparse matrix of type '<class 'numpy.uint8'>'\n",
      "\twith 24 stored elements in Dictionary Of Keys format>, <1x9856 sparse matrix of type '<class 'numpy.uint8'>'\n",
      "\twith 5 stored elements in Dictionary Of Keys format>, <1x9856 sparse matrix of type '<class 'numpy.uint8'>'\n",
      "\twith 16 stored elements in Dictionary Of Keys format>, <1x9856 sparse matrix of type '<class 'numpy.uint8'>'\n",
      "\twith 16 stored elements in Dictionary Of Keys format>, <1x9856 sparse matrix of type '<class 'numpy.uint8'>'\n",
      "\twith 6 stored elements in Dictionary Of Keys format>, <1x9856 sparse matrix of type '<class 'numpy.uint8'>'\n",
      "\twith 12 stored elements in Dictionary Of Keys format>, <1x9856 sparse matrix of type '<class 'numpy.uint8'>'\n",
      "\twith 8 stored elements in Dictionary Of Keys format>, <1x9856 sparse matrix of type '<class 'numpy.uint8'>'\n",
      "\twith 13 stored elements in Dictionary Of Keys format>, <1x9856 sparse matrix of type '<class 'numpy.uint8'>'\n",
      "\twith 12 stored elements in Dictionary Of Keys format>, <1x9856 sparse matrix of type '<class 'numpy.uint8'>'\n",
      "\twith 8 stored elements in Dictionary Of Keys format>, <1x9856 sparse matrix of type '<class 'numpy.uint8'>'\n",
      "\twith 8 stored elements in Dictionary Of Keys format>, <1x9856 sparse matrix of type '<class 'numpy.uint8'>'\n",
      "\twith 15 stored elements in Dictionary Of Keys format>, <1x9856 sparse matrix of type '<class 'numpy.uint8'>'\n",
      "\twith 50 stored elements in Dictionary Of Keys format>, <1x9856 sparse matrix of type '<class 'numpy.uint8'>'\n",
      "\twith 5 stored elements in Dictionary Of Keys format>, <1x9856 sparse matrix of type '<class 'numpy.uint8'>'\n",
      "\twith 40 stored elements in Dictionary Of Keys format>, <1x9856 sparse matrix of type '<class 'numpy.uint8'>'\n",
      "\twith 16 stored elements in Dictionary Of Keys format>, <1x9856 sparse matrix of type '<class 'numpy.uint8'>'\n",
      "\twith 5 stored elements in Dictionary Of Keys format>, <1x9856 sparse matrix of type '<class 'numpy.uint8'>'\n",
      "\twith 5 stored elements in Dictionary Of Keys format>, <1x9856 sparse matrix of type '<class 'numpy.uint8'>'\n",
      "\twith 17 stored elements in Dictionary Of Keys format>, <1x9856 sparse matrix of type '<class 'numpy.uint8'>'\n",
      "\twith 5 stored elements in Dictionary Of Keys format>, <1x9856 sparse matrix of type '<class 'numpy.uint8'>'\n",
      "\twith 5 stored elements in Dictionary Of Keys format>, <1x9856 sparse matrix of type '<class 'numpy.uint8'>'\n",
      "\twith 24 stored elements in Dictionary Of Keys format>, <1x9856 sparse matrix of type '<class 'numpy.uint8'>'\n",
      "\twith 30 stored elements in Dictionary Of Keys format>, <1x9856 sparse matrix of type '<class 'numpy.uint8'>'\n",
      "\twith 8 stored elements in Dictionary Of Keys format>, <1x9856 sparse matrix of type '<class 'numpy.uint8'>'\n",
      "\twith 8 stored elements in Dictionary Of Keys format>, <1x9856 sparse matrix of type '<class 'numpy.uint8'>'\n",
      "\twith 9 stored elements in Dictionary Of Keys format>, <1x9856 sparse matrix of type '<class 'numpy.uint8'>'\n",
      "\twith 10 stored elements in Dictionary Of Keys format>, <1x9856 sparse matrix of type '<class 'numpy.uint8'>'\n",
      "\twith 11 stored elements in Dictionary Of Keys format>, <1x9856 sparse matrix of type '<class 'numpy.uint8'>'\n",
      "\twith 56 stored elements in Dictionary Of Keys format>, <1x9856 sparse matrix of type '<class 'numpy.uint8'>'\n",
      "\twith 63 stored elements in Dictionary Of Keys format>, <1x9856 sparse matrix of type '<class 'numpy.uint8'>'\n",
      "\twith 33 stored elements in Dictionary Of Keys format>, <1x9856 sparse matrix of type '<class 'numpy.uint8'>'\n",
      "\twith 10 stored elements in Dictionary Of Keys format>, <1x9856 sparse matrix of type '<class 'numpy.uint8'>'\n",
      "\twith 16 stored elements in Dictionary Of Keys format>, <1x9856 sparse matrix of type '<class 'numpy.uint8'>'\n",
      "\twith 36 stored elements in Dictionary Of Keys format>, <1x9856 sparse matrix of type '<class 'numpy.uint8'>'\n",
      "\twith 57 stored elements in Dictionary Of Keys format>, <1x9856 sparse matrix of type '<class 'numpy.uint8'>'\n",
      "\twith 12 stored elements in Dictionary Of Keys format>, <1x9856 sparse matrix of type '<class 'numpy.uint8'>'\n",
      "\twith 5 stored elements in Dictionary Of Keys format>, <1x9856 sparse matrix of type '<class 'numpy.uint8'>'\n",
      "\twith 8 stored elements in Dictionary Of Keys format>, <1x9856 sparse matrix of type '<class 'numpy.uint8'>'\n",
      "\twith 22 stored elements in Dictionary Of Keys format>, <1x9856 sparse matrix of type '<class 'numpy.uint8'>'\n",
      "\twith 31 stored elements in Dictionary Of Keys format>, <1x9856 sparse matrix of type '<class 'numpy.uint8'>'\n",
      "\twith 11 stored elements in Dictionary Of Keys format>, <1x9856 sparse matrix of type '<class 'numpy.uint8'>'\n",
      "\twith 40 stored elements in Dictionary Of Keys format>, <1x9856 sparse matrix of type '<class 'numpy.uint8'>'\n",
      "\twith 9 stored elements in Dictionary Of Keys format>, <1x9856 sparse matrix of type '<class 'numpy.uint8'>'\n",
      "\twith 39 stored elements in Dictionary Of Keys format>, <1x9856 sparse matrix of type '<class 'numpy.uint8'>'\n",
      "\twith 6 stored elements in Dictionary Of Keys format>, <1x9856 sparse matrix of type '<class 'numpy.uint8'>'\n",
      "\twith 6 stored elements in Dictionary Of Keys format>, <1x9856 sparse matrix of type '<class 'numpy.uint8'>'\n",
      "\twith 40 stored elements in Dictionary Of Keys format>, <1x9856 sparse matrix of type '<class 'numpy.uint8'>'\n",
      "\twith 72 stored elements in Dictionary Of Keys format>, <1x9856 sparse matrix of type '<class 'numpy.uint8'>'\n",
      "\twith 5 stored elements in Dictionary Of Keys format>, <1x9856 sparse matrix of type '<class 'numpy.uint8'>'\n",
      "\twith 13 stored elements in Dictionary Of Keys format>, <1x9856 sparse matrix of type '<class 'numpy.uint8'>'\n",
      "\twith 40 stored elements in Dictionary Of Keys format>, <1x9856 sparse matrix of type '<class 'numpy.uint8'>'\n",
      "\twith 8 stored elements in Dictionary Of Keys format>, <1x9856 sparse matrix of type '<class 'numpy.uint8'>'\n",
      "\twith 11 stored elements in Dictionary Of Keys format>, <1x9856 sparse matrix of type '<class 'numpy.uint8'>'\n",
      "\twith 20 stored elements in Dictionary Of Keys format>, <1x9856 sparse matrix of type '<class 'numpy.uint8'>'\n",
      "\twith 8 stored elements in Dictionary Of Keys format>, <1x9856 sparse matrix of type '<class 'numpy.uint8'>'\n",
      "\twith 8 stored elements in Dictionary Of Keys format>, <1x9856 sparse matrix of type '<class 'numpy.uint8'>'\n",
      "\twith 8 stored elements in Dictionary Of Keys format>, <1x9856 sparse matrix of type '<class 'numpy.uint8'>'\n",
      "\twith 8 stored elements in Dictionary Of Keys format>, <1x9856 sparse matrix of type '<class 'numpy.uint8'>'\n",
      "\twith 8 stored elements in Dictionary Of Keys format>, <1x9856 sparse matrix of type '<class 'numpy.uint8'>'\n",
      "\twith 21 stored elements in Dictionary Of Keys format>, <1x9856 sparse matrix of type '<class 'numpy.uint8'>'\n",
      "\twith 8 stored elements in Dictionary Of Keys format>, <1x9856 sparse matrix of type '<class 'numpy.uint8'>'\n",
      "\twith 11 stored elements in Dictionary Of Keys format>, <1x9856 sparse matrix of type '<class 'numpy.uint8'>'\n",
      "\twith 10 stored elements in Dictionary Of Keys format>, <1x9856 sparse matrix of type '<class 'numpy.uint8'>'\n",
      "\twith 15 stored elements in Dictionary Of Keys format>, <1x9856 sparse matrix of type '<class 'numpy.uint8'>'\n",
      "\twith 7 stored elements in Dictionary Of Keys format>, <1x9856 sparse matrix of type '<class 'numpy.uint8'>'\n",
      "\twith 6 stored elements in Dictionary Of Keys format>, <1x9856 sparse matrix of type '<class 'numpy.uint8'>'\n",
      "\twith 12 stored elements in Dictionary Of Keys format>, <1x9856 sparse matrix of type '<class 'numpy.uint8'>'\n",
      "\twith 7 stored elements in Dictionary Of Keys format>, <1x9856 sparse matrix of type '<class 'numpy.uint8'>'\n",
      "\twith 6 stored elements in Dictionary Of Keys format>, <1x9856 sparse matrix of type '<class 'numpy.uint8'>'\n",
      "\twith 5 stored elements in Dictionary Of Keys format>, <1x9856 sparse matrix of type '<class 'numpy.uint8'>'\n",
      "\twith 21 stored elements in Dictionary Of Keys format>, <1x9856 sparse matrix of type '<class 'numpy.uint8'>'\n",
      "\twith 24 stored elements in Dictionary Of Keys format>, <1x9856 sparse matrix of type '<class 'numpy.uint8'>'\n",
      "\twith 5 stored elements in Dictionary Of Keys format>, <1x9856 sparse matrix of type '<class 'numpy.uint8'>'\n",
      "\twith 13 stored elements in Dictionary Of Keys format>, <1x9856 sparse matrix of type '<class 'numpy.uint8'>'\n",
      "\twith 9 stored elements in Dictionary Of Keys format>, <1x9856 sparse matrix of type '<class 'numpy.uint8'>'\n",
      "\twith 9 stored elements in Dictionary Of Keys format>, <1x9856 sparse matrix of type '<class 'numpy.uint8'>'\n",
      "\twith 31 stored elements in Dictionary Of Keys format>, <1x9856 sparse matrix of type '<class 'numpy.uint8'>'\n",
      "\twith 87 stored elements in Dictionary Of Keys format>, <1x9856 sparse matrix of type '<class 'numpy.uint8'>'\n",
      "\twith 6 stored elements in Dictionary Of Keys format>, <1x9856 sparse matrix of type '<class 'numpy.uint8'>'\n",
      "\twith 5 stored elements in Dictionary Of Keys format>, <1x9856 sparse matrix of type '<class 'numpy.uint8'>'\n",
      "\twith 7 stored elements in Dictionary Of Keys format>, <1x9856 sparse matrix of type '<class 'numpy.uint8'>'\n",
      "\twith 8 stored elements in Dictionary Of Keys format>, <1x9856 sparse matrix of type '<class 'numpy.uint8'>'\n",
      "\twith 16 stored elements in Dictionary Of Keys format>, <1x9856 sparse matrix of type '<class 'numpy.uint8'>'\n",
      "\twith 7 stored elements in Dictionary Of Keys format>, <1x9856 sparse matrix of type '<class 'numpy.uint8'>'\n",
      "\twith 17 stored elements in Dictionary Of Keys format>, <1x9856 sparse matrix of type '<class 'numpy.uint8'>'\n",
      "\twith 7 stored elements in Dictionary Of Keys format>, <1x9856 sparse matrix of type '<class 'numpy.uint8'>'\n",
      "\twith 19 stored elements in Dictionary Of Keys format>, <1x9856 sparse matrix of type '<class 'numpy.uint8'>'\n",
      "\twith 25 stored elements in Dictionary Of Keys format>, <1x9856 sparse matrix of type '<class 'numpy.uint8'>'\n",
      "\twith 18 stored elements in Dictionary Of Keys format>, <1x9856 sparse matrix of type '<class 'numpy.uint8'>'\n",
      "\twith 11 stored elements in Dictionary Of Keys format>, <1x9856 sparse matrix of type '<class 'numpy.uint8'>'\n",
      "\twith 19 stored elements in Dictionary Of Keys format>, <1x9856 sparse matrix of type '<class 'numpy.uint8'>'\n",
      "\twith 99 stored elements in Dictionary Of Keys format>, <1x9856 sparse matrix of type '<class 'numpy.uint8'>'\n",
      "\twith 109 stored elements in Dictionary Of Keys format>, <1x9856 sparse matrix of type '<class 'numpy.uint8'>'\n",
      "\twith 52 stored elements in Dictionary Of Keys format>, <1x9856 sparse matrix of type '<class 'numpy.uint8'>'\n",
      "\twith 11 stored elements in Dictionary Of Keys format>, <1x9856 sparse matrix of type '<class 'numpy.uint8'>'\n",
      "\twith 25 stored elements in Dictionary Of Keys format>, <1x9856 sparse matrix of type '<class 'numpy.uint8'>'\n",
      "\twith 39 stored elements in Dictionary Of Keys format>, <1x9856 sparse matrix of type '<class 'numpy.uint8'>'\n",
      "\twith 13 stored elements in Dictionary Of Keys format>, <1x9856 sparse matrix of type '<class 'numpy.uint8'>'\n",
      "\twith 30 stored elements in Dictionary Of Keys format>, <1x9856 sparse matrix of type '<class 'numpy.uint8'>'\n",
      "\twith 5 stored elements in Dictionary Of Keys format>, <1x9856 sparse matrix of type '<class 'numpy.uint8'>'\n",
      "\twith 62 stored elements in Dictionary Of Keys format>, <1x9856 sparse matrix of type '<class 'numpy.uint8'>'\n",
      "\twith 24 stored elements in Dictionary Of Keys format>, <1x9856 sparse matrix of type '<class 'numpy.uint8'>'\n",
      "\twith 8 stored elements in Dictionary Of Keys format>, <1x9856 sparse matrix of type '<class 'numpy.uint8'>'\n",
      "\twith 24 stored elements in Dictionary Of Keys format>, <1x9856 sparse matrix of type '<class 'numpy.uint8'>'\n",
      "\twith 9 stored elements in Dictionary Of Keys format>, <1x9856 sparse matrix of type '<class 'numpy.uint8'>'\n",
      "\twith 12 stored elements in Dictionary Of Keys format>, <1x9856 sparse matrix of type '<class 'numpy.uint8'>'\n",
      "\twith 84 stored elements in Dictionary Of Keys format>, <1x9856 sparse matrix of type '<class 'numpy.uint8'>'\n",
      "\twith 17 stored elements in Dictionary Of Keys format>, <1x9856 sparse matrix of type '<class 'numpy.uint8'>'\n",
      "\twith 14 stored elements in Dictionary Of Keys format>, <1x9856 sparse matrix of type '<class 'numpy.uint8'>'\n",
      "\twith 6 stored elements in Dictionary Of Keys format>, <1x9856 sparse matrix of type '<class 'numpy.uint8'>'\n",
      "\twith 71 stored elements in Dictionary Of Keys format>, <1x9856 sparse matrix of type '<class 'numpy.uint8'>'\n",
      "\twith 7 stored elements in Dictionary Of Keys format>, <1x9856 sparse matrix of type '<class 'numpy.uint8'>'\n",
      "\twith 9 stored elements in Dictionary Of Keys format>, <1x9856 sparse matrix of type '<class 'numpy.uint8'>'\n",
      "\twith 10 stored elements in Dictionary Of Keys format>, <1x9856 sparse matrix of type '<class 'numpy.uint8'>'\n",
      "\twith 14 stored elements in Dictionary Of Keys format>, <1x9856 sparse matrix of type '<class 'numpy.uint8'>'\n",
      "\twith 7 stored elements in Dictionary Of Keys format>, <1x9856 sparse matrix of type '<class 'numpy.uint8'>'\n",
      "\twith 15 stored elements in Dictionary Of Keys format>, <1x9856 sparse matrix of type '<class 'numpy.uint8'>'\n",
      "\twith 6 stored elements in Dictionary Of Keys format>, <1x9856 sparse matrix of type '<class 'numpy.uint8'>'\n",
      "\twith 5 stored elements in Dictionary Of Keys format>, <1x9856 sparse matrix of type '<class 'numpy.uint8'>'\n",
      "\twith 14 stored elements in Dictionary Of Keys format>, <1x9856 sparse matrix of type '<class 'numpy.uint8'>'\n",
      "\twith 25 stored elements in Dictionary Of Keys format>, <1x9856 sparse matrix of type '<class 'numpy.uint8'>'\n",
      "\twith 87 stored elements in Dictionary Of Keys format>, <1x9856 sparse matrix of type '<class 'numpy.uint8'>'\n",
      "\twith 10 stored elements in Dictionary Of Keys format>, <1x9856 sparse matrix of type '<class 'numpy.uint8'>'\n",
      "\twith 6 stored elements in Dictionary Of Keys format>, <1x9856 sparse matrix of type '<class 'numpy.uint8'>'\n",
      "\twith 75 stored elements in Dictionary Of Keys format>, <1x9856 sparse matrix of type '<class 'numpy.uint8'>'\n",
      "\twith 28 stored elements in Dictionary Of Keys format>, <1x9856 sparse matrix of type '<class 'numpy.uint8'>'\n",
      "\twith 36 stored elements in Dictionary Of Keys format>, <1x9856 sparse matrix of type '<class 'numpy.uint8'>'\n",
      "\twith 14 stored elements in Dictionary Of Keys format>, <1x9856 sparse matrix of type '<class 'numpy.uint8'>'\n",
      "\twith 10 stored elements in Dictionary Of Keys format>, <1x9856 sparse matrix of type '<class 'numpy.uint8'>'\n",
      "\twith 6 stored elements in Dictionary Of Keys format>, <1x9856 sparse matrix of type '<class 'numpy.uint8'>'\n",
      "\twith 7 stored elements in Dictionary Of Keys format>, <1x9856 sparse matrix of type '<class 'numpy.uint8'>'\n",
      "\twith 19 stored elements in Dictionary Of Keys format>, <1x9856 sparse matrix of type '<class 'numpy.uint8'>'\n",
      "\twith 6 stored elements in Dictionary Of Keys format>, <1x9856 sparse matrix of type '<class 'numpy.uint8'>'\n",
      "\twith 6 stored elements in Dictionary Of Keys format>, <1x9856 sparse matrix of type '<class 'numpy.uint8'>'\n",
      "\twith 44 stored elements in Dictionary Of Keys format>, <1x9856 sparse matrix of type '<class 'numpy.uint8'>'\n",
      "\twith 83 stored elements in Dictionary Of Keys format>, <1x9856 sparse matrix of type '<class 'numpy.uint8'>'\n",
      "\twith 9 stored elements in Dictionary Of Keys format>, <1x9856 sparse matrix of type '<class 'numpy.uint8'>'\n",
      "\twith 11 stored elements in Dictionary Of Keys format>, <1x9856 sparse matrix of type '<class 'numpy.uint8'>'\n",
      "\twith 18 stored elements in Dictionary Of Keys format>, <1x9856 sparse matrix of type '<class 'numpy.uint8'>'\n",
      "\twith 9 stored elements in Dictionary Of Keys format>, <1x9856 sparse matrix of type '<class 'numpy.uint8'>'\n",
      "\twith 22 stored elements in Dictionary Of Keys format>, <1x9856 sparse matrix of type '<class 'numpy.uint8'>'\n",
      "\twith 28 stored elements in Dictionary Of Keys format>, <1x9856 sparse matrix of type '<class 'numpy.uint8'>'\n",
      "\twith 6 stored elements in Dictionary Of Keys format>, <1x9856 sparse matrix of type '<class 'numpy.uint8'>'\n",
      "\twith 17 stored elements in Dictionary Of Keys format>, <1x9856 sparse matrix of type '<class 'numpy.uint8'>'\n",
      "\twith 24 stored elements in Dictionary Of Keys format>, <1x9856 sparse matrix of type '<class 'numpy.uint8'>'\n",
      "\twith 11 stored elements in Dictionary Of Keys format>, <1x9856 sparse matrix of type '<class 'numpy.uint8'>'\n",
      "\twith 21 stored elements in Dictionary Of Keys format>, <1x9856 sparse matrix of type '<class 'numpy.uint8'>'\n",
      "\twith 48 stored elements in Dictionary Of Keys format>, <1x9856 sparse matrix of type '<class 'numpy.uint8'>'\n",
      "\twith 22 stored elements in Dictionary Of Keys format>, <1x9856 sparse matrix of type '<class 'numpy.uint8'>'\n",
      "\twith 6 stored elements in Dictionary Of Keys format>, <1x9856 sparse matrix of type '<class 'numpy.uint8'>'\n",
      "\twith 28 stored elements in Dictionary Of Keys format>, <1x9856 sparse matrix of type '<class 'numpy.uint8'>'\n",
      "\twith 28 stored elements in Dictionary Of Keys format>, <1x9856 sparse matrix of type '<class 'numpy.uint8'>'\n",
      "\twith 13 stored elements in Dictionary Of Keys format>, <1x9856 sparse matrix of type '<class 'numpy.uint8'>'\n",
      "\twith 36 stored elements in Dictionary Of Keys format>, <1x9856 sparse matrix of type '<class 'numpy.uint8'>'\n",
      "\twith 28 stored elements in Dictionary Of Keys format>, <1x9856 sparse matrix of type '<class 'numpy.uint8'>'\n",
      "\twith 8 stored elements in Dictionary Of Keys format>, <1x9856 sparse matrix of type '<class 'numpy.uint8'>'\n",
      "\twith 20 stored elements in Dictionary Of Keys format>, <1x9856 sparse matrix of type '<class 'numpy.uint8'>'\n",
      "\twith 5 stored elements in Dictionary Of Keys format>, <1x9856 sparse matrix of type '<class 'numpy.uint8'>'\n",
      "\twith 28 stored elements in Dictionary Of Keys format>, <1x9856 sparse matrix of type '<class 'numpy.uint8'>'\n",
      "\twith 32 stored elements in Dictionary Of Keys format>, <1x9856 sparse matrix of type '<class 'numpy.uint8'>'\n",
      "\twith 11 stored elements in Dictionary Of Keys format>, <1x9856 sparse matrix of type '<class 'numpy.uint8'>'\n",
      "\twith 48 stored elements in Dictionary Of Keys format>, <1x9856 sparse matrix of type '<class 'numpy.uint8'>'\n",
      "\twith 10 stored elements in Dictionary Of Keys format>, <1x9856 sparse matrix of type '<class 'numpy.uint8'>'\n",
      "\twith 28 stored elements in Dictionary Of Keys format>, <1x9856 sparse matrix of type '<class 'numpy.uint8'>'\n",
      "\twith 28 stored elements in Dictionary Of Keys format>, <1x9856 sparse matrix of type '<class 'numpy.uint8'>'\n",
      "\twith 47 stored elements in Dictionary Of Keys format>, <1x9856 sparse matrix of type '<class 'numpy.uint8'>'\n",
      "\twith 21 stored elements in Dictionary Of Keys format>, <1x9856 sparse matrix of type '<class 'numpy.uint8'>'\n",
      "\twith 16 stored elements in Dictionary Of Keys format>, <1x9856 sparse matrix of type '<class 'numpy.uint8'>'\n",
      "\twith 59 stored elements in Dictionary Of Keys format>, <1x9856 sparse matrix of type '<class 'numpy.uint8'>'\n",
      "\twith 9 stored elements in Dictionary Of Keys format>, <1x9856 sparse matrix of type '<class 'numpy.uint8'>'\n",
      "\twith 75 stored elements in Dictionary Of Keys format>, <1x9856 sparse matrix of type '<class 'numpy.uint8'>'\n",
      "\twith 23 stored elements in Dictionary Of Keys format>, <1x9856 sparse matrix of type '<class 'numpy.uint8'>'\n",
      "\twith 27 stored elements in Dictionary Of Keys format>, <1x9856 sparse matrix of type '<class 'numpy.uint8'>'\n",
      "\twith 71 stored elements in Dictionary Of Keys format>, <1x9856 sparse matrix of type '<class 'numpy.uint8'>'\n",
      "\twith 6 stored elements in Dictionary Of Keys format>, <1x9856 sparse matrix of type '<class 'numpy.uint8'>'\n",
      "\twith 12 stored elements in Dictionary Of Keys format>, <1x9856 sparse matrix of type '<class 'numpy.uint8'>'\n",
      "\twith 60 stored elements in Dictionary Of Keys format>, <1x9856 sparse matrix of type '<class 'numpy.uint8'>'\n",
      "\twith 16 stored elements in Dictionary Of Keys format>, <1x9856 sparse matrix of type '<class 'numpy.uint8'>'\n",
      "\twith 18 stored elements in Dictionary Of Keys format>, <1x9856 sparse matrix of type '<class 'numpy.uint8'>'\n",
      "\twith 8 stored elements in Dictionary Of Keys format>, <1x9856 sparse matrix of type '<class 'numpy.uint8'>'\n",
      "\twith 5 stored elements in Dictionary Of Keys format>, <1x9856 sparse matrix of type '<class 'numpy.uint8'>'\n",
      "\twith 8 stored elements in Dictionary Of Keys format>, <1x9856 sparse matrix of type '<class 'numpy.uint8'>'\n",
      "\twith 32 stored elements in Dictionary Of Keys format>, <1x9856 sparse matrix of type '<class 'numpy.uint8'>'\n",
      "\twith 8 stored elements in Dictionary Of Keys format>, <1x9856 sparse matrix of type '<class 'numpy.uint8'>'\n",
      "\twith 56 stored elements in Dictionary Of Keys format>, <1x9856 sparse matrix of type '<class 'numpy.uint8'>'\n",
      "\twith 6 stored elements in Dictionary Of Keys format>, <1x9856 sparse matrix of type '<class 'numpy.uint8'>'\n",
      "\twith 11 stored elements in Dictionary Of Keys format>, <1x9856 sparse matrix of type '<class 'numpy.uint8'>'\n",
      "\twith 10 stored elements in Dictionary Of Keys format>, <1x9856 sparse matrix of type '<class 'numpy.uint8'>'\n",
      "\twith 6 stored elements in Dictionary Of Keys format>, <1x9856 sparse matrix of type '<class 'numpy.uint8'>'\n",
      "\twith 6 stored elements in Dictionary Of Keys format>, <1x9856 sparse matrix of type '<class 'numpy.uint8'>'\n",
      "\twith 5 stored elements in Dictionary Of Keys format>, <1x9856 sparse matrix of type '<class 'numpy.uint8'>'\n",
      "\twith 6 stored elements in Dictionary Of Keys format>, <1x9856 sparse matrix of type '<class 'numpy.uint8'>'\n",
      "\twith 10 stored elements in Dictionary Of Keys format>, <1x9856 sparse matrix of type '<class 'numpy.uint8'>'\n",
      "\twith 9 stored elements in Dictionary Of Keys format>, <1x9856 sparse matrix of type '<class 'numpy.uint8'>'\n",
      "\twith 21 stored elements in Dictionary Of Keys format>, <1x9856 sparse matrix of type '<class 'numpy.uint8'>'\n",
      "\twith 8 stored elements in Dictionary Of Keys format>, <1x9856 sparse matrix of type '<class 'numpy.uint8'>'\n",
      "\twith 8 stored elements in Dictionary Of Keys format>, <1x9856 sparse matrix of type '<class 'numpy.uint8'>'\n",
      "\twith 52 stored elements in Dictionary Of Keys format>, <1x9856 sparse matrix of type '<class 'numpy.uint8'>'\n",
      "\twith 11 stored elements in Dictionary Of Keys format>, <1x9856 sparse matrix of type '<class 'numpy.uint8'>'\n",
      "\twith 47 stored elements in Dictionary Of Keys format>, <1x9856 sparse matrix of type '<class 'numpy.uint8'>'\n",
      "\twith 12 stored elements in Dictionary Of Keys format>, <1x9856 sparse matrix of type '<class 'numpy.uint8'>'\n",
      "\twith 8 stored elements in Dictionary Of Keys format>, <1x9856 sparse matrix of type '<class 'numpy.uint8'>'\n",
      "\twith 8 stored elements in Dictionary Of Keys format>, <1x9856 sparse matrix of type '<class 'numpy.uint8'>'\n",
      "\twith 12 stored elements in Dictionary Of Keys format>, <1x9856 sparse matrix of type '<class 'numpy.uint8'>'\n",
      "\twith 8 stored elements in Dictionary Of Keys format>, <1x9856 sparse matrix of type '<class 'numpy.uint8'>'\n",
      "\twith 7 stored elements in Dictionary Of Keys format>, <1x9856 sparse matrix of type '<class 'numpy.uint8'>'\n",
      "\twith 11 stored elements in Dictionary Of Keys format>, <1x9856 sparse matrix of type '<class 'numpy.uint8'>'\n",
      "\twith 9 stored elements in Dictionary Of Keys format>, <1x9856 sparse matrix of type '<class 'numpy.uint8'>'\n",
      "\twith 22 stored elements in Dictionary Of Keys format>, <1x9856 sparse matrix of type '<class 'numpy.uint8'>'\n",
      "\twith 27 stored elements in Dictionary Of Keys format>, <1x9856 sparse matrix of type '<class 'numpy.uint8'>'\n",
      "\twith 8 stored elements in Dictionary Of Keys format>, <1x9856 sparse matrix of type '<class 'numpy.uint8'>'\n",
      "\twith 16 stored elements in Dictionary Of Keys format>, <1x9856 sparse matrix of type '<class 'numpy.uint8'>'\n",
      "\twith 99 stored elements in Dictionary Of Keys format>, <1x9856 sparse matrix of type '<class 'numpy.uint8'>'\n",
      "\twith 8 stored elements in Dictionary Of Keys format>, <1x9856 sparse matrix of type '<class 'numpy.uint8'>'\n",
      "\twith 12 stored elements in Dictionary Of Keys format>, <1x9856 sparse matrix of type '<class 'numpy.uint8'>'\n",
      "\twith 5 stored elements in Dictionary Of Keys format>, <1x9856 sparse matrix of type '<class 'numpy.uint8'>'\n",
      "\twith 12 stored elements in Dictionary Of Keys format>, <1x9856 sparse matrix of type '<class 'numpy.uint8'>'\n",
      "\twith 9 stored elements in Dictionary Of Keys format>, <1x9856 sparse matrix of type '<class 'numpy.uint8'>'\n",
      "\twith 9 stored elements in Dictionary Of Keys format>, <1x9856 sparse matrix of type '<class 'numpy.uint8'>'\n",
      "\twith 12 stored elements in Dictionary Of Keys format>, <1x9856 sparse matrix of type '<class 'numpy.uint8'>'\n",
      "\twith 8 stored elements in Dictionary Of Keys format>, <1x9856 sparse matrix of type '<class 'numpy.uint8'>'\n",
      "\twith 8 stored elements in Dictionary Of Keys format>, <1x9856 sparse matrix of type '<class 'numpy.uint8'>'\n",
      "\twith 11 stored elements in Dictionary Of Keys format>, <1x9856 sparse matrix of type '<class 'numpy.uint8'>'\n",
      "\twith 6 stored elements in Dictionary Of Keys format>, <1x9856 sparse matrix of type '<class 'numpy.uint8'>'\n",
      "\twith 9 stored elements in Dictionary Of Keys format>, <1x9856 sparse matrix of type '<class 'numpy.uint8'>'\n",
      "\twith 8 stored elements in Dictionary Of Keys format>, <1x9856 sparse matrix of type '<class 'numpy.uint8'>'\n",
      "\twith 13 stored elements in Dictionary Of Keys format>, <1x9856 sparse matrix of type '<class 'numpy.uint8'>'\n",
      "\twith 8 stored elements in Dictionary Of Keys format>, <1x9856 sparse matrix of type '<class 'numpy.uint8'>'\n",
      "\twith 5 stored elements in Dictionary Of Keys format>, <1x9856 sparse matrix of type '<class 'numpy.uint8'>'\n",
      "\twith 16 stored elements in Dictionary Of Keys format>, <1x9856 sparse matrix of type '<class 'numpy.uint8'>'\n",
      "\twith 5 stored elements in Dictionary Of Keys format>, <1x9856 sparse matrix of type '<class 'numpy.uint8'>'\n",
      "\twith 5 stored elements in Dictionary Of Keys format>, <1x9856 sparse matrix of type '<class 'numpy.uint8'>'\n",
      "\twith 9 stored elements in Dictionary Of Keys format>, <1x9856 sparse matrix of type '<class 'numpy.uint8'>'\n",
      "\twith 8 stored elements in Dictionary Of Keys format>, <1x9856 sparse matrix of type '<class 'numpy.uint8'>'\n",
      "\twith 8 stored elements in Dictionary Of Keys format>, <1x9856 sparse matrix of type '<class 'numpy.uint8'>'\n",
      "\twith 8 stored elements in Dictionary Of Keys format>, <1x9856 sparse matrix of type '<class 'numpy.uint8'>'\n",
      "\twith 5 stored elements in Dictionary Of Keys format>, <1x9856 sparse matrix of type '<class 'numpy.uint8'>'\n",
      "\twith 44 stored elements in Dictionary Of Keys format>, <1x9856 sparse matrix of type '<class 'numpy.uint8'>'\n",
      "\twith 30 stored elements in Dictionary Of Keys format>, <1x9856 sparse matrix of type '<class 'numpy.uint8'>'\n",
      "\twith 12 stored elements in Dictionary Of Keys format>, <1x9856 sparse matrix of type '<class 'numpy.uint8'>'\n",
      "\twith 11 stored elements in Dictionary Of Keys format>, <1x9856 sparse matrix of type '<class 'numpy.uint8'>'\n",
      "\twith 5 stored elements in Dictionary Of Keys format>, <1x9856 sparse matrix of type '<class 'numpy.uint8'>'\n",
      "\twith 10 stored elements in Dictionary Of Keys format>, <1x9856 sparse matrix of type '<class 'numpy.uint8'>'\n",
      "\twith 9 stored elements in Dictionary Of Keys format>, <1x9856 sparse matrix of type '<class 'numpy.uint8'>'\n",
      "\twith 9 stored elements in Dictionary Of Keys format>, <1x9856 sparse matrix of type '<class 'numpy.uint8'>'\n",
      "\twith 8 stored elements in Dictionary Of Keys format>, <1x9856 sparse matrix of type '<class 'numpy.uint8'>'\n",
      "\twith 24 stored elements in Dictionary Of Keys format>, <1x9856 sparse matrix of type '<class 'numpy.uint8'>'\n",
      "\twith 5 stored elements in Dictionary Of Keys format>, <1x9856 sparse matrix of type '<class 'numpy.uint8'>'\n",
      "\twith 31 stored elements in Dictionary Of Keys format>, <1x9856 sparse matrix of type '<class 'numpy.uint8'>'\n",
      "\twith 10 stored elements in Dictionary Of Keys format>, <1x9856 sparse matrix of type '<class 'numpy.uint8'>'\n",
      "\twith 72 stored elements in Dictionary Of Keys format>, <1x9856 sparse matrix of type '<class 'numpy.uint8'>'\n",
      "\twith 35 stored elements in Dictionary Of Keys format>, <1x9856 sparse matrix of type '<class 'numpy.uint8'>'\n",
      "\twith 22 stored elements in Dictionary Of Keys format>, <1x9856 sparse matrix of type '<class 'numpy.uint8'>'\n",
      "\twith 6 stored elements in Dictionary Of Keys format>, <1x9856 sparse matrix of type '<class 'numpy.uint8'>'\n",
      "\twith 58 stored elements in Dictionary Of Keys format>, <1x9856 sparse matrix of type '<class 'numpy.uint8'>'\n",
      "\twith 68 stored elements in Dictionary Of Keys format>, <1x9856 sparse matrix of type '<class 'numpy.uint8'>'\n",
      "\twith 5 stored elements in Dictionary Of Keys format>, <1x9856 sparse matrix of type '<class 'numpy.uint8'>'\n",
      "\twith 6 stored elements in Dictionary Of Keys format>, <1x9856 sparse matrix of type '<class 'numpy.uint8'>'\n",
      "\twith 32 stored elements in Dictionary Of Keys format>, <1x9856 sparse matrix of type '<class 'numpy.uint8'>'\n",
      "\twith 5 stored elements in Dictionary Of Keys format>, <1x9856 sparse matrix of type '<class 'numpy.uint8'>'\n",
      "\twith 8 stored elements in Dictionary Of Keys format>, <1x9856 sparse matrix of type '<class 'numpy.uint8'>'\n",
      "\twith 6 stored elements in Dictionary Of Keys format>, <1x9856 sparse matrix of type '<class 'numpy.uint8'>'\n",
      "\twith 15 stored elements in Dictionary Of Keys format>, <1x9856 sparse matrix of type '<class 'numpy.uint8'>'\n",
      "\twith 48 stored elements in Dictionary Of Keys format>, <1x9856 sparse matrix of type '<class 'numpy.uint8'>'\n",
      "\twith 5 stored elements in Dictionary Of Keys format>, <1x9856 sparse matrix of type '<class 'numpy.uint8'>'\n",
      "\twith 64 stored elements in Dictionary Of Keys format>, <1x9856 sparse matrix of type '<class 'numpy.uint8'>'\n",
      "\twith 105 stored elements in Dictionary Of Keys format>, <1x9856 sparse matrix of type '<class 'numpy.uint8'>'\n",
      "\twith 119 stored elements in Dictionary Of Keys format>, <1x9856 sparse matrix of type '<class 'numpy.uint8'>'\n",
      "\twith 12 stored elements in Dictionary Of Keys format>, <1x9856 sparse matrix of type '<class 'numpy.uint8'>'\n",
      "\twith 15 stored elements in Dictionary Of Keys format>, <1x9856 sparse matrix of type '<class 'numpy.uint8'>'\n",
      "\twith 68 stored elements in Dictionary Of Keys format>, <1x9856 sparse matrix of type '<class 'numpy.uint8'>'\n",
      "\twith 32 stored elements in Dictionary Of Keys format>, <1x9856 sparse matrix of type '<class 'numpy.uint8'>'\n",
      "\twith 20 stored elements in Dictionary Of Keys format>, <1x9856 sparse matrix of type '<class 'numpy.uint8'>'\n",
      "\twith 17 stored elements in Dictionary Of Keys format>, <1x9856 sparse matrix of type '<class 'numpy.uint8'>'\n",
      "\twith 5 stored elements in Dictionary Of Keys format>, <1x9856 sparse matrix of type '<class 'numpy.uint8'>'\n",
      "\twith 48 stored elements in Dictionary Of Keys format>, <1x9856 sparse matrix of type '<class 'numpy.uint8'>'\n",
      "\twith 5 stored elements in Dictionary Of Keys format>, <1x9856 sparse matrix of type '<class 'numpy.uint8'>'\n",
      "\twith 5 stored elements in Dictionary Of Keys format>, <1x9856 sparse matrix of type '<class 'numpy.uint8'>'\n",
      "\twith 59 stored elements in Dictionary Of Keys format>, <1x9856 sparse matrix of type '<class 'numpy.uint8'>'\n",
      "\twith 29 stored elements in Dictionary Of Keys format>, <1x9856 sparse matrix of type '<class 'numpy.uint8'>'\n",
      "\twith 5 stored elements in Dictionary Of Keys format>, <1x9856 sparse matrix of type '<class 'numpy.uint8'>'\n",
      "\twith 5 stored elements in Dictionary Of Keys format>, <1x9856 sparse matrix of type '<class 'numpy.uint8'>'\n",
      "\twith 32 stored elements in Dictionary Of Keys format>, <1x9856 sparse matrix of type '<class 'numpy.uint8'>'\n",
      "\twith 8 stored elements in Dictionary Of Keys format>, <1x9856 sparse matrix of type '<class 'numpy.uint8'>'\n",
      "\twith 5 stored elements in Dictionary Of Keys format>, <1x9856 sparse matrix of type '<class 'numpy.uint8'>'\n",
      "\twith 29 stored elements in Dictionary Of Keys format>, <1x9856 sparse matrix of type '<class 'numpy.uint8'>'\n",
      "\twith 28 stored elements in Dictionary Of Keys format>, <1x9856 sparse matrix of type '<class 'numpy.uint8'>'\n",
      "\twith 24 stored elements in Dictionary Of Keys format>, <1x9856 sparse matrix of type '<class 'numpy.uint8'>'\n",
      "\twith 20 stored elements in Dictionary Of Keys format>, <1x9856 sparse matrix of type '<class 'numpy.uint8'>'\n",
      "\twith 16 stored elements in Dictionary Of Keys format>, <1x9856 sparse matrix of type '<class 'numpy.uint8'>'\n",
      "\twith 11 stored elements in Dictionary Of Keys format>, <1x9856 sparse matrix of type '<class 'numpy.uint8'>'\n",
      "\twith 18 stored elements in Dictionary Of Keys format>, <1x9856 sparse matrix of type '<class 'numpy.uint8'>'\n",
      "\twith 10 stored elements in Dictionary Of Keys format>, <1x9856 sparse matrix of type '<class 'numpy.uint8'>'\n",
      "\twith 43 stored elements in Dictionary Of Keys format>, <1x9856 sparse matrix of type '<class 'numpy.uint8'>'\n",
      "\twith 5 stored elements in Dictionary Of Keys format>, <1x9856 sparse matrix of type '<class 'numpy.uint8'>'\n",
      "\twith 6 stored elements in Dictionary Of Keys format>, <1x9856 sparse matrix of type '<class 'numpy.uint8'>'\n",
      "\twith 6 stored elements in Dictionary Of Keys format>, <1x9856 sparse matrix of type '<class 'numpy.uint8'>'\n",
      "\twith 84 stored elements in Dictionary Of Keys format>, <1x9856 sparse matrix of type '<class 'numpy.uint8'>'\n",
      "\twith 5 stored elements in Dictionary Of Keys format>, <1x9856 sparse matrix of type '<class 'numpy.uint8'>'\n",
      "\twith 12 stored elements in Dictionary Of Keys format>, <1x9856 sparse matrix of type '<class 'numpy.uint8'>'\n",
      "\twith 16 stored elements in Dictionary Of Keys format>, <1x9856 sparse matrix of type '<class 'numpy.uint8'>'\n",
      "\twith 14 stored elements in Dictionary Of Keys format>, <1x9856 sparse matrix of type '<class 'numpy.uint8'>'\n",
      "\twith 28 stored elements in Dictionary Of Keys format>, <1x9856 sparse matrix of type '<class 'numpy.uint8'>'\n",
      "\twith 12 stored elements in Dictionary Of Keys format>, <1x9856 sparse matrix of type '<class 'numpy.uint8'>'\n",
      "\twith 12 stored elements in Dictionary Of Keys format>, <1x9856 sparse matrix of type '<class 'numpy.uint8'>'\n",
      "\twith 12 stored elements in Dictionary Of Keys format>, <1x9856 sparse matrix of type '<class 'numpy.uint8'>'\n",
      "\twith 18 stored elements in Dictionary Of Keys format>, <1x9856 sparse matrix of type '<class 'numpy.uint8'>'\n",
      "\twith 5 stored elements in Dictionary Of Keys format>, <1x9856 sparse matrix of type '<class 'numpy.uint8'>'\n",
      "\twith 11 stored elements in Dictionary Of Keys format>, <1x9856 sparse matrix of type '<class 'numpy.uint8'>'\n",
      "\twith 52 stored elements in Dictionary Of Keys format>, <1x9856 sparse matrix of type '<class 'numpy.uint8'>'\n",
      "\twith 16 stored elements in Dictionary Of Keys format>, <1x9856 sparse matrix of type '<class 'numpy.uint8'>'\n",
      "\twith 5 stored elements in Dictionary Of Keys format>, <1x9856 sparse matrix of type '<class 'numpy.uint8'>'\n",
      "\twith 8 stored elements in Dictionary Of Keys format>, <1x9856 sparse matrix of type '<class 'numpy.uint8'>'\n",
      "\twith 28 stored elements in Dictionary Of Keys format>, <1x9856 sparse matrix of type '<class 'numpy.uint8'>'\n",
      "\twith 5 stored elements in Dictionary Of Keys format>, <1x9856 sparse matrix of type '<class 'numpy.uint8'>'\n",
      "\twith 11 stored elements in Dictionary Of Keys format>, <1x9856 sparse matrix of type '<class 'numpy.uint8'>'\n",
      "\twith 5 stored elements in Dictionary Of Keys format>, <1x9856 sparse matrix of type '<class 'numpy.uint8'>'\n",
      "\twith 5 stored elements in Dictionary Of Keys format>, <1x9856 sparse matrix of type '<class 'numpy.uint8'>'\n",
      "\twith 40 stored elements in Dictionary Of Keys format>, <1x9856 sparse matrix of type '<class 'numpy.uint8'>'\n",
      "\twith 5 stored elements in Dictionary Of Keys format>, <1x9856 sparse matrix of type '<class 'numpy.uint8'>'\n",
      "\twith 8 stored elements in Dictionary Of Keys format>, <1x9856 sparse matrix of type '<class 'numpy.uint8'>'\n",
      "\twith 9 stored elements in Dictionary Of Keys format>, <1x9856 sparse matrix of type '<class 'numpy.uint8'>'\n",
      "\twith 9 stored elements in Dictionary Of Keys format>, <1x9856 sparse matrix of type '<class 'numpy.uint8'>'\n",
      "\twith 34 stored elements in Dictionary Of Keys format>, <1x9856 sparse matrix of type '<class 'numpy.uint8'>'\n",
      "\twith 5 stored elements in Dictionary Of Keys format>, <1x9856 sparse matrix of type '<class 'numpy.uint8'>'\n",
      "\twith 44 stored elements in Dictionary Of Keys format>, <1x9856 sparse matrix of type '<class 'numpy.uint8'>'\n",
      "\twith 5 stored elements in Dictionary Of Keys format>, <1x9856 sparse matrix of type '<class 'numpy.uint8'>'\n",
      "\twith 39 stored elements in Dictionary Of Keys format>, <1x9856 sparse matrix of type '<class 'numpy.uint8'>'\n",
      "\twith 6 stored elements in Dictionary Of Keys format>, <1x9856 sparse matrix of type '<class 'numpy.uint8'>'\n",
      "\twith 91 stored elements in Dictionary Of Keys format>, <1x9856 sparse matrix of type '<class 'numpy.uint8'>'\n",
      "\twith 28 stored elements in Dictionary Of Keys format>, <1x9856 sparse matrix of type '<class 'numpy.uint8'>'\n",
      "\twith 23 stored elements in Dictionary Of Keys format>, <1x9856 sparse matrix of type '<class 'numpy.uint8'>'\n",
      "\twith 6 stored elements in Dictionary Of Keys format>, <1x9856 sparse matrix of type '<class 'numpy.uint8'>'\n",
      "\twith 52 stored elements in Dictionary Of Keys format>, <1x9856 sparse matrix of type '<class 'numpy.uint8'>'\n",
      "\twith 7 stored elements in Dictionary Of Keys format>, <1x9856 sparse matrix of type '<class 'numpy.uint8'>'\n",
      "\twith 17 stored elements in Dictionary Of Keys format>, <1x9856 sparse matrix of type '<class 'numpy.uint8'>'\n",
      "\twith 36 stored elements in Dictionary Of Keys format>, <1x9856 sparse matrix of type '<class 'numpy.uint8'>'\n",
      "\twith 8 stored elements in Dictionary Of Keys format>, <1x9856 sparse matrix of type '<class 'numpy.uint8'>'\n",
      "\twith 6 stored elements in Dictionary Of Keys format>, <1x9856 sparse matrix of type '<class 'numpy.uint8'>'\n",
      "\twith 15 stored elements in Dictionary Of Keys format>, <1x9856 sparse matrix of type '<class 'numpy.uint8'>'\n",
      "\twith 28 stored elements in Dictionary Of Keys format>, <1x9856 sparse matrix of type '<class 'numpy.uint8'>'\n",
      "\twith 18 stored elements in Dictionary Of Keys format>, <1x9856 sparse matrix of type '<class 'numpy.uint8'>'\n",
      "\twith 21 stored elements in Dictionary Of Keys format>, <1x9856 sparse matrix of type '<class 'numpy.uint8'>'\n",
      "\twith 5 stored elements in Dictionary Of Keys format>, <1x9856 sparse matrix of type '<class 'numpy.uint8'>'\n",
      "\twith 5 stored elements in Dictionary Of Keys format>, <1x9856 sparse matrix of type '<class 'numpy.uint8'>'\n",
      "\twith 32 stored elements in Dictionary Of Keys format>, <1x9856 sparse matrix of type '<class 'numpy.uint8'>'\n",
      "\twith 5 stored elements in Dictionary Of Keys format>, <1x9856 sparse matrix of type '<class 'numpy.uint8'>'\n",
      "\twith 32 stored elements in Dictionary Of Keys format>, <1x9856 sparse matrix of type '<class 'numpy.uint8'>'\n",
      "\twith 8 stored elements in Dictionary Of Keys format>, <1x9856 sparse matrix of type '<class 'numpy.uint8'>'\n",
      "\twith 6 stored elements in Dictionary Of Keys format>, <1x9856 sparse matrix of type '<class 'numpy.uint8'>'\n",
      "\twith 11 stored elements in Dictionary Of Keys format>, <1x9856 sparse matrix of type '<class 'numpy.uint8'>'\n",
      "\twith 30 stored elements in Dictionary Of Keys format>, <1x9856 sparse matrix of type '<class 'numpy.uint8'>'\n",
      "\twith 5 stored elements in Dictionary Of Keys format>, <1x9856 sparse matrix of type '<class 'numpy.uint8'>'\n",
      "\twith 6 stored elements in Dictionary Of Keys format>, <1x9856 sparse matrix of type '<class 'numpy.uint8'>'\n",
      "\twith 5 stored elements in Dictionary Of Keys format>, <1x9856 sparse matrix of type '<class 'numpy.uint8'>'\n",
      "\twith 36 stored elements in Dictionary Of Keys format>, <1x9856 sparse matrix of type '<class 'numpy.uint8'>'\n",
      "\twith 5 stored elements in Dictionary Of Keys format>, <1x9856 sparse matrix of type '<class 'numpy.uint8'>'\n",
      "\twith 14 stored elements in Dictionary Of Keys format>, <1x9856 sparse matrix of type '<class 'numpy.uint8'>'\n",
      "\twith 5 stored elements in Dictionary Of Keys format>, <1x9856 sparse matrix of type '<class 'numpy.uint8'>'\n",
      "\twith 9 stored elements in Dictionary Of Keys format>, <1x9856 sparse matrix of type '<class 'numpy.uint8'>'\n",
      "\twith 63 stored elements in Dictionary Of Keys format>, <1x9856 sparse matrix of type '<class 'numpy.uint8'>'\n",
      "\twith 12 stored elements in Dictionary Of Keys format>, <1x9856 sparse matrix of type '<class 'numpy.uint8'>'\n",
      "\twith 9 stored elements in Dictionary Of Keys format>, <1x9856 sparse matrix of type '<class 'numpy.uint8'>'\n",
      "\twith 8 stored elements in Dictionary Of Keys format>, <1x9856 sparse matrix of type '<class 'numpy.uint8'>'\n",
      "\twith 15 stored elements in Dictionary Of Keys format>, <1x9856 sparse matrix of type '<class 'numpy.uint8'>'\n",
      "\twith 5 stored elements in Dictionary Of Keys format>, <1x9856 sparse matrix of type '<class 'numpy.uint8'>'\n",
      "\twith 16 stored elements in Dictionary Of Keys format>, <1x9856 sparse matrix of type '<class 'numpy.uint8'>'\n",
      "\twith 17 stored elements in Dictionary Of Keys format>, <1x9856 sparse matrix of type '<class 'numpy.uint8'>'\n",
      "\twith 23 stored elements in Dictionary Of Keys format>, <1x9856 sparse matrix of type '<class 'numpy.uint8'>'\n",
      "\twith 36 stored elements in Dictionary Of Keys format>, <1x9856 sparse matrix of type '<class 'numpy.uint8'>'\n",
      "\twith 60 stored elements in Dictionary Of Keys format>, <1x9856 sparse matrix of type '<class 'numpy.uint8'>'\n",
      "\twith 36 stored elements in Dictionary Of Keys format>, <1x9856 sparse matrix of type '<class 'numpy.uint8'>'\n",
      "\twith 9 stored elements in Dictionary Of Keys format>, <1x9856 sparse matrix of type '<class 'numpy.uint8'>'\n",
      "\twith 43 stored elements in Dictionary Of Keys format>)\n"
     ]
    }
   ],
   "source": [
    "print(lagoons2[0].pools)"
   ]
  },
  {
   "cell_type": "markdown",
   "metadata": {},
   "source": [
    "## Querying the lagoon"
   ]
  },
  {
   "cell_type": "code",
   "execution_count": 78,
   "metadata": {},
   "outputs": [],
   "source": [
    "def sparse_match(a, b):   \n",
    "    for key in b.keys():\n",
    "        if key not in a:\n",
    "            return False\n",
    "    return True\n",
    "\n",
    "def query_lagoon(query, lagoon_list):\n",
    "    bases = []\n",
    "    row_checks = 0\n",
    "    search_next = list(range(len(lagoon_list[0].pools)))\n",
    "    for i, lagoon in enumerate(lagoon_list):\n",
    "        row_checks += len(search_next)\n",
    "        candidates = [j for j in search_next if sparse_match(query, lagoon.pools[j])]\n",
    "        search_next = []\n",
    "        for candidate in candidates:\n",
    "            if lagoon.pool_counts[candidate] > SIZE_TO_EVAL: # Gets the rows to check on the next lagoon\n",
    "                search_next += [row for row in lagoon.pool_members[candidate]]\n",
    "            else:\n",
    "                bases += get_base_regexes([candidate], lagoon_list[i:]) # Recurses down lagoon to get bases\n",
    "    return bases, row_checks\n",
    "\n",
    "def get_base_regexes(rows, lagoon_list):\n",
    "    next_rows = rows\n",
    "    for lagoon in lagoon_list:\n",
    "        next_rows = [r for row in next_rows for r in lagoon.pool_members[row]]\n",
    "    return next_rows\n",
    "\n",
    "        \n",
    "def regexes_matching_string(query_string, lagoons):\n",
    "    '''Resolves which regexes match the query_string by first\n",
    "       prefiltering with the lagoons'''\n",
    "    # TODO: refactor sparsify into 2 funcs so I can get the DOK directly here\n",
    "#     q_arr = sparsify([query_string])[0]\n",
    "    q_arr = sparsify_single(query_string)\n",
    "    bases, row_checks = query_lagoon(q_arr, lagoons)\n",
    "    matched_regexes = []\n",
    "    for idx in bases:\n",
    "        if compiled_regexes[idx].search(query_string):\n",
    "            matched_regexes.append(idx)\n",
    "    return {'matches': matched_regexes, 'regexes_checked': len(bases), 'rows_checked': row_checks}\n",
    "\n",
    "def regexes_matching_string_uncompiled(query_string, lagoons):\n",
    "    '''Resolves which regexes match the query_string by first\n",
    "       prefiltering with the lagoons'''\n",
    "#     q_arr = sparsify([query_string])[0]\n",
    "    q_arr = sparsify_single(query_string)\n",
    "    bases, row_checks = query_lagoon(q_arr, lagoons)\n",
    "    matched_regexes = []\n",
    "    for idx in bases:\n",
    "        if re.search(re.escape(regexes[idx]), query_string):\n",
    "            matched_regexes.append(idx)\n",
    "    return {'matches': matched_regexes, 'regexes_checked': len(bases), 'rows_checked': row_checks}\n"
   ]
  },
  {
   "cell_type": "code",
   "execution_count": 79,
   "metadata": {},
   "outputs": [
    {
     "name": "stderr",
     "output_type": "stream",
     "text": [
      "100%|██████████| 10/10 [00:00<00:00, 2813.65it/s]\n",
      "100%|██████████| 10/10 [00:00<00:00, 247.42it/s]\n",
      "100%|██████████| 100/100 [00:00<00:00, 3399.72it/s]\n",
      " 31%|███       | 31/100 [00:00<00:00, 301.17it/s]"
     ]
    },
    {
     "name": "stdout",
     "output_type": "stream",
     "text": [
      "Brute force: 0.0054051876068115234; Tree: 0.041686058044433594; Factor: 0.12966415776349202\n"
     ]
    },
    {
     "name": "stderr",
     "output_type": "stream",
     "text": [
      "100%|██████████| 100/100 [00:00<00:00, 315.38it/s]\n",
      " 38%|███▊      | 378/1000 [00:00<00:00, 3772.39it/s]"
     ]
    },
    {
     "name": "stdout",
     "output_type": "stream",
     "text": [
      "Brute force: 0.030543804168701172; Tree: 0.3183140754699707; Factor: 0.09595492792332594\n"
     ]
    },
    {
     "name": "stderr",
     "output_type": "stream",
     "text": [
      "100%|██████████| 1000/1000 [00:00<00:00, 3827.28it/s]\n",
      "100%|██████████| 1000/1000 [00:02<00:00, 361.84it/s]"
     ]
    },
    {
     "name": "stdout",
     "output_type": "stream",
     "text": [
      "Brute force: 0.2630631923675537; Tree: 2.7651498317718506; Factor: 0.09513523981410739\n"
     ]
    },
    {
     "name": "stderr",
     "output_type": "stream",
     "text": [
      "\n"
     ]
    }
   ],
   "source": [
    "test_sizes = [10, 100, 1000]\n",
    "\n",
    "def test_compiled(num_tests):\n",
    "    samples = random.sample(regexes, num_tests)\n",
    "    texts = samples\n",
    "\n",
    "    start = time.time()\n",
    "    re_results = []\n",
    "    for j in tqdm(range(len(texts))):\n",
    "        for i in range(len(regexes)):\n",
    "            x = compiled_regexes[i].search(texts[j])\n",
    "            if x:\n",
    "                re_results.append(x)\n",
    "    end = time.time()\n",
    "\n",
    "    results = []\n",
    "    start2 = time.time()\n",
    "    for i in tqdm(range(len(texts))):\n",
    "        results.append(regexes_matching_string(texts[i], lagoons))\n",
    "    end2 = time.time()\n",
    "\n",
    "    print(f\"Brute force: {end - start}; Tree: {end2 - start2}; Factor: {(end-start) / (end2-start2)}\")\n",
    "    \n",
    "    return {'results': results, 'brute_time': end - start, 'drag_time': end2-start2}\n",
    "\n",
    "test_results = [test_compiled(num) for num in test_sizes]"
   ]
  },
  {
   "cell_type": "code",
   "execution_count": 23,
   "metadata": {},
   "outputs": [
    {
     "name": "stdout",
     "output_type": "stream",
     "text": [
      "Num tests: 10 : Brute time: 0.004829883575439453 Drag time: 0.029380321502685547 Row checks: 389 Direct evaluations:  1\n",
      "Num tests: 100 : Brute time: 0.027478694915771484 Drag time: 0.2505209445953369 Row checks: 389 Direct evaluations:  2\n",
      "Num tests: 1000 : Brute time: 0.23934316635131836 Drag time: 2.4370667934417725 Row checks: 420 Direct evaluations:  73\n"
     ]
    }
   ],
   "source": [
    "for num, result in zip(test_sizes, test_results):\n",
    "    reg = result['results'][0]['regexes_checked']\n",
    "    rows = result['results'][0]['rows_checked']\n",
    "    print(\"Num tests:\", num, \":\", \"Brute time:\", result['brute_time'], \"Drag time:\", result['drag_time'], \"Row checks:\", rows, \"Direct evaluations: \", reg)"
   ]
  },
  {
   "cell_type": "markdown",
   "metadata": {},
   "source": [
    "### Test on sparsified lagoon"
   ]
  },
  {
   "cell_type": "code",
   "execution_count": 80,
   "metadata": {},
   "outputs": [
    {
     "name": "stderr",
     "output_type": "stream",
     "text": [
      "100%|██████████| 10/10 [00:00<00:00, 2540.16it/s]\n",
      "100%|██████████| 10/10 [00:00<00:00, 237.58it/s]\n",
      "100%|██████████| 100/100 [00:00<00:00, 3623.21it/s]\n",
      " 34%|███▍      | 34/100 [00:00<00:00, 331.26it/s]"
     ]
    },
    {
     "name": "stdout",
     "output_type": "stream",
     "text": [
      "Brute force: 0.00572514533996582; Tree: 0.04370594024658203; Factor: 0.1309923847345567\n"
     ]
    },
    {
     "name": "stderr",
     "output_type": "stream",
     "text": [
      "100%|██████████| 100/100 [00:00<00:00, 324.59it/s]\n",
      " 37%|███▋      | 369/1000 [00:00<00:00, 3689.41it/s]"
     ]
    },
    {
     "name": "stdout",
     "output_type": "stream",
     "text": [
      "Brute force: 0.02910590171813965; Tree: 0.3092920780181885; Factor: 0.09410490532003869\n"
     ]
    },
    {
     "name": "stderr",
     "output_type": "stream",
     "text": [
      "100%|██████████| 1000/1000 [00:00<00:00, 3793.21it/s]\n",
      "100%|██████████| 1000/1000 [00:02<00:00, 379.97it/s]"
     ]
    },
    {
     "name": "stdout",
     "output_type": "stream",
     "text": [
      "Brute force: 0.2648320198059082; Tree: 2.632758855819702; Factor: 0.10059106599166807\n"
     ]
    },
    {
     "name": "stderr",
     "output_type": "stream",
     "text": [
      "\n"
     ]
    }
   ],
   "source": [
    "test_sizes = [10, 100, 1000]\n",
    "\n",
    "def test_compiled(num_tests):\n",
    "    samples = random.sample(regexes, num_tests)\n",
    "    texts = samples\n",
    "\n",
    "    start = time.time()\n",
    "    re_results = []\n",
    "    for j in tqdm(range(len(texts))):\n",
    "        for i in range(len(regexes)):\n",
    "            x = compiled_regexes[i].search(texts[j])\n",
    "            if x:\n",
    "                re_results.append(x)\n",
    "    end = time.time()\n",
    "\n",
    "    results = []\n",
    "    start2 = time.time()\n",
    "    for i in tqdm(range(len(texts))):\n",
    "        results.append(regexes_matching_string(texts[i], lagoons2))\n",
    "    end2 = time.time()\n",
    "\n",
    "    print(f\"Brute force: {end - start}; Tree: {end2 - start2}; Factor: {(end-start) / (end2-start2)}\")\n",
    "    \n",
    "    return {'results': results, 'brute_time': end - start, 'drag_time': end2-start2}\n",
    "\n",
    "test_results = [test_compiled(num) for num in test_sizes]"
   ]
  },
  {
   "cell_type": "markdown",
   "metadata": {},
   "source": [
    "### Uncompiled"
   ]
  },
  {
   "cell_type": "code",
   "execution_count": 81,
   "metadata": {},
   "outputs": [
    {
     "name": "stderr",
     "output_type": "stream",
     "text": [
      "100%|██████████| 10/10 [00:00<00:00, 11.12it/s]\n",
      "100%|██████████| 10/10 [00:00<00:00, 239.97it/s]\n",
      "  2%|▏         | 2/100 [00:00<00:09, 10.54it/s]"
     ]
    },
    {
     "name": "stdout",
     "output_type": "stream",
     "text": [
      "Brute force: 0.9062891006469727; Tree: 0.04251599311828613; Factor: 21.316427870461236\n"
     ]
    },
    {
     "name": "stderr",
     "output_type": "stream",
     "text": [
      "100%|██████████| 100/100 [00:09<00:00, 11.00it/s]\n",
      "100%|██████████| 100/100 [00:00<00:00, 290.01it/s]\n",
      "  0%|          | 2/1000 [00:00<01:25, 11.62it/s]"
     ]
    },
    {
     "name": "stdout",
     "output_type": "stream",
     "text": [
      "Brute force: 9.089063882827759; Tree: 0.3457050323486328; Factor: 26.291384366258573\n"
     ]
    },
    {
     "name": "stderr",
     "output_type": "stream",
     "text": [
      " 35%|███▍      | 349/1000 [00:35<01:06,  9.79it/s]\n"
     ]
    },
    {
     "ename": "KeyboardInterrupt",
     "evalue": "",
     "output_type": "error",
     "traceback": [
      "\u001b[0;31m---------------------------------------------------------------------------\u001b[0m",
      "\u001b[0;31mKeyboardInterrupt\u001b[0m                         Traceback (most recent call last)",
      "\u001b[0;32m<ipython-input-81-01e139695f76>\u001b[0m in \u001b[0;36m<module>\u001b[0;34m()\u001b[0m\n\u001b[1;32m     23\u001b[0m     \u001b[0;32mreturn\u001b[0m \u001b[0;34m{\u001b[0m\u001b[0;34m'results'\u001b[0m\u001b[0;34m:\u001b[0m \u001b[0mresults\u001b[0m\u001b[0;34m,\u001b[0m \u001b[0;34m'brute_time'\u001b[0m\u001b[0;34m:\u001b[0m \u001b[0mend\u001b[0m \u001b[0;34m-\u001b[0m \u001b[0mstart\u001b[0m\u001b[0;34m,\u001b[0m \u001b[0;34m'drag_time'\u001b[0m\u001b[0;34m:\u001b[0m \u001b[0mend2\u001b[0m\u001b[0;34m-\u001b[0m\u001b[0mstart2\u001b[0m\u001b[0;34m}\u001b[0m\u001b[0;34m\u001b[0m\u001b[0;34m\u001b[0m\u001b[0m\n\u001b[1;32m     24\u001b[0m \u001b[0;34m\u001b[0m\u001b[0m\n\u001b[0;32m---> 25\u001b[0;31m \u001b[0mtest_results_unc\u001b[0m \u001b[0;34m=\u001b[0m \u001b[0;34m[\u001b[0m\u001b[0mtest_uncompiled\u001b[0m\u001b[0;34m(\u001b[0m\u001b[0mnum\u001b[0m\u001b[0;34m)\u001b[0m \u001b[0;32mfor\u001b[0m \u001b[0mnum\u001b[0m \u001b[0;32min\u001b[0m \u001b[0mtest_sizes\u001b[0m\u001b[0;34m]\u001b[0m\u001b[0;34m\u001b[0m\u001b[0;34m\u001b[0m\u001b[0m\n\u001b[0m\u001b[1;32m     26\u001b[0m \u001b[0;34m\u001b[0m\u001b[0m\n",
      "\u001b[0;32m<ipython-input-81-01e139695f76>\u001b[0m in \u001b[0;36m<listcomp>\u001b[0;34m(.0)\u001b[0m\n\u001b[1;32m     23\u001b[0m     \u001b[0;32mreturn\u001b[0m \u001b[0;34m{\u001b[0m\u001b[0;34m'results'\u001b[0m\u001b[0;34m:\u001b[0m \u001b[0mresults\u001b[0m\u001b[0;34m,\u001b[0m \u001b[0;34m'brute_time'\u001b[0m\u001b[0;34m:\u001b[0m \u001b[0mend\u001b[0m \u001b[0;34m-\u001b[0m \u001b[0mstart\u001b[0m\u001b[0;34m,\u001b[0m \u001b[0;34m'drag_time'\u001b[0m\u001b[0;34m:\u001b[0m \u001b[0mend2\u001b[0m\u001b[0;34m-\u001b[0m\u001b[0mstart2\u001b[0m\u001b[0;34m}\u001b[0m\u001b[0;34m\u001b[0m\u001b[0;34m\u001b[0m\u001b[0m\n\u001b[1;32m     24\u001b[0m \u001b[0;34m\u001b[0m\u001b[0m\n\u001b[0;32m---> 25\u001b[0;31m \u001b[0mtest_results_unc\u001b[0m \u001b[0;34m=\u001b[0m \u001b[0;34m[\u001b[0m\u001b[0mtest_uncompiled\u001b[0m\u001b[0;34m(\u001b[0m\u001b[0mnum\u001b[0m\u001b[0;34m)\u001b[0m \u001b[0;32mfor\u001b[0m \u001b[0mnum\u001b[0m \u001b[0;32min\u001b[0m \u001b[0mtest_sizes\u001b[0m\u001b[0;34m]\u001b[0m\u001b[0;34m\u001b[0m\u001b[0;34m\u001b[0m\u001b[0m\n\u001b[0m\u001b[1;32m     26\u001b[0m \u001b[0;34m\u001b[0m\u001b[0m\n",
      "\u001b[0;32m<ipython-input-81-01e139695f76>\u001b[0m in \u001b[0;36mtest_uncompiled\u001b[0;34m(num_tests)\u001b[0m\n\u001b[1;32m      8\u001b[0m     \u001b[0;32mfor\u001b[0m \u001b[0mj\u001b[0m \u001b[0;32min\u001b[0m \u001b[0mtqdm\u001b[0m\u001b[0;34m(\u001b[0m\u001b[0mrange\u001b[0m\u001b[0;34m(\u001b[0m\u001b[0mlen\u001b[0m\u001b[0;34m(\u001b[0m\u001b[0mtexts\u001b[0m\u001b[0;34m)\u001b[0m\u001b[0;34m)\u001b[0m\u001b[0;34m)\u001b[0m\u001b[0;34m:\u001b[0m\u001b[0;34m\u001b[0m\u001b[0;34m\u001b[0m\u001b[0m\n\u001b[1;32m      9\u001b[0m         \u001b[0;32mfor\u001b[0m \u001b[0mi\u001b[0m \u001b[0;32min\u001b[0m \u001b[0mrange\u001b[0m\u001b[0;34m(\u001b[0m\u001b[0mlen\u001b[0m\u001b[0;34m(\u001b[0m\u001b[0mregexes\u001b[0m\u001b[0;34m)\u001b[0m\u001b[0;34m)\u001b[0m\u001b[0;34m:\u001b[0m\u001b[0;34m\u001b[0m\u001b[0;34m\u001b[0m\u001b[0m\n\u001b[0;32m---> 10\u001b[0;31m             \u001b[0mx\u001b[0m \u001b[0;34m=\u001b[0m \u001b[0mre\u001b[0m\u001b[0;34m.\u001b[0m\u001b[0msearch\u001b[0m\u001b[0;34m(\u001b[0m\u001b[0mre\u001b[0m\u001b[0;34m.\u001b[0m\u001b[0mescape\u001b[0m\u001b[0;34m(\u001b[0m\u001b[0mregexes\u001b[0m\u001b[0;34m[\u001b[0m\u001b[0mi\u001b[0m\u001b[0;34m]\u001b[0m\u001b[0;34m)\u001b[0m\u001b[0;34m,\u001b[0m \u001b[0mtexts\u001b[0m\u001b[0;34m[\u001b[0m\u001b[0mj\u001b[0m\u001b[0;34m]\u001b[0m\u001b[0;34m)\u001b[0m\u001b[0;34m\u001b[0m\u001b[0;34m\u001b[0m\u001b[0m\n\u001b[0m\u001b[1;32m     11\u001b[0m             \u001b[0;32mif\u001b[0m \u001b[0mx\u001b[0m\u001b[0;34m:\u001b[0m\u001b[0;34m\u001b[0m\u001b[0;34m\u001b[0m\u001b[0m\n\u001b[1;32m     12\u001b[0m                 \u001b[0mre_results\u001b[0m\u001b[0;34m.\u001b[0m\u001b[0mappend\u001b[0m\u001b[0;34m(\u001b[0m\u001b[0mx\u001b[0m\u001b[0;34m)\u001b[0m\u001b[0;34m\u001b[0m\u001b[0;34m\u001b[0m\u001b[0m\n",
      "\u001b[0;32m/opt/miniconda3/envs/stats/lib/python3.7/re.py\u001b[0m in \u001b[0;36msearch\u001b[0;34m(pattern, string, flags)\u001b[0m\n\u001b[1;32m    181\u001b[0m     \"\"\"Scan through string looking for a match to the pattern, returning\n\u001b[1;32m    182\u001b[0m     a Match object, or None if no match was found.\"\"\"\n\u001b[0;32m--> 183\u001b[0;31m     \u001b[0;32mreturn\u001b[0m \u001b[0m_compile\u001b[0m\u001b[0;34m(\u001b[0m\u001b[0mpattern\u001b[0m\u001b[0;34m,\u001b[0m \u001b[0mflags\u001b[0m\u001b[0;34m)\u001b[0m\u001b[0;34m.\u001b[0m\u001b[0msearch\u001b[0m\u001b[0;34m(\u001b[0m\u001b[0mstring\u001b[0m\u001b[0;34m)\u001b[0m\u001b[0;34m\u001b[0m\u001b[0;34m\u001b[0m\u001b[0m\n\u001b[0m\u001b[1;32m    184\u001b[0m \u001b[0;34m\u001b[0m\u001b[0m\n\u001b[1;32m    185\u001b[0m \u001b[0;32mdef\u001b[0m \u001b[0msub\u001b[0m\u001b[0;34m(\u001b[0m\u001b[0mpattern\u001b[0m\u001b[0;34m,\u001b[0m \u001b[0mrepl\u001b[0m\u001b[0;34m,\u001b[0m \u001b[0mstring\u001b[0m\u001b[0;34m,\u001b[0m \u001b[0mcount\u001b[0m\u001b[0;34m=\u001b[0m\u001b[0;36m0\u001b[0m\u001b[0;34m,\u001b[0m \u001b[0mflags\u001b[0m\u001b[0;34m=\u001b[0m\u001b[0;36m0\u001b[0m\u001b[0;34m)\u001b[0m\u001b[0;34m:\u001b[0m\u001b[0;34m\u001b[0m\u001b[0;34m\u001b[0m\u001b[0m\n",
      "\u001b[0;32m/opt/miniconda3/envs/stats/lib/python3.7/re.py\u001b[0m in \u001b[0;36m_compile\u001b[0;34m(pattern, flags)\u001b[0m\n\u001b[1;32m    284\u001b[0m     \u001b[0;32mif\u001b[0m \u001b[0;32mnot\u001b[0m \u001b[0msre_compile\u001b[0m\u001b[0;34m.\u001b[0m\u001b[0misstring\u001b[0m\u001b[0;34m(\u001b[0m\u001b[0mpattern\u001b[0m\u001b[0;34m)\u001b[0m\u001b[0;34m:\u001b[0m\u001b[0;34m\u001b[0m\u001b[0;34m\u001b[0m\u001b[0m\n\u001b[1;32m    285\u001b[0m         \u001b[0;32mraise\u001b[0m \u001b[0mTypeError\u001b[0m\u001b[0;34m(\u001b[0m\u001b[0;34m\"first argument must be string or compiled pattern\"\u001b[0m\u001b[0;34m)\u001b[0m\u001b[0;34m\u001b[0m\u001b[0;34m\u001b[0m\u001b[0m\n\u001b[0;32m--> 286\u001b[0;31m     \u001b[0mp\u001b[0m \u001b[0;34m=\u001b[0m \u001b[0msre_compile\u001b[0m\u001b[0;34m.\u001b[0m\u001b[0mcompile\u001b[0m\u001b[0;34m(\u001b[0m\u001b[0mpattern\u001b[0m\u001b[0;34m,\u001b[0m \u001b[0mflags\u001b[0m\u001b[0;34m)\u001b[0m\u001b[0;34m\u001b[0m\u001b[0;34m\u001b[0m\u001b[0m\n\u001b[0m\u001b[1;32m    287\u001b[0m     \u001b[0;32mif\u001b[0m \u001b[0;32mnot\u001b[0m \u001b[0;34m(\u001b[0m\u001b[0mflags\u001b[0m \u001b[0;34m&\u001b[0m \u001b[0mDEBUG\u001b[0m\u001b[0;34m)\u001b[0m\u001b[0;34m:\u001b[0m\u001b[0;34m\u001b[0m\u001b[0;34m\u001b[0m\u001b[0m\n\u001b[1;32m    288\u001b[0m         \u001b[0;32mif\u001b[0m \u001b[0mlen\u001b[0m\u001b[0;34m(\u001b[0m\u001b[0m_cache\u001b[0m\u001b[0;34m)\u001b[0m \u001b[0;34m>=\u001b[0m \u001b[0m_MAXCACHE\u001b[0m\u001b[0;34m:\u001b[0m\u001b[0;34m\u001b[0m\u001b[0;34m\u001b[0m\u001b[0m\n",
      "\u001b[0;32m/opt/miniconda3/envs/stats/lib/python3.7/sre_compile.py\u001b[0m in \u001b[0;36mcompile\u001b[0;34m(p, flags)\u001b[0m\n\u001b[1;32m    762\u001b[0m     \u001b[0;32mif\u001b[0m \u001b[0misstring\u001b[0m\u001b[0;34m(\u001b[0m\u001b[0mp\u001b[0m\u001b[0;34m)\u001b[0m\u001b[0;34m:\u001b[0m\u001b[0;34m\u001b[0m\u001b[0;34m\u001b[0m\u001b[0m\n\u001b[1;32m    763\u001b[0m         \u001b[0mpattern\u001b[0m \u001b[0;34m=\u001b[0m \u001b[0mp\u001b[0m\u001b[0;34m\u001b[0m\u001b[0;34m\u001b[0m\u001b[0m\n\u001b[0;32m--> 764\u001b[0;31m         \u001b[0mp\u001b[0m \u001b[0;34m=\u001b[0m \u001b[0msre_parse\u001b[0m\u001b[0;34m.\u001b[0m\u001b[0mparse\u001b[0m\u001b[0;34m(\u001b[0m\u001b[0mp\u001b[0m\u001b[0;34m,\u001b[0m \u001b[0mflags\u001b[0m\u001b[0;34m)\u001b[0m\u001b[0;34m\u001b[0m\u001b[0;34m\u001b[0m\u001b[0m\n\u001b[0m\u001b[1;32m    765\u001b[0m     \u001b[0;32melse\u001b[0m\u001b[0;34m:\u001b[0m\u001b[0;34m\u001b[0m\u001b[0;34m\u001b[0m\u001b[0m\n\u001b[1;32m    766\u001b[0m         \u001b[0mpattern\u001b[0m \u001b[0;34m=\u001b[0m \u001b[0;32mNone\u001b[0m\u001b[0;34m\u001b[0m\u001b[0;34m\u001b[0m\u001b[0m\n",
      "\u001b[0;32m/opt/miniconda3/envs/stats/lib/python3.7/sre_parse.py\u001b[0m in \u001b[0;36mparse\u001b[0;34m(str, flags, pattern)\u001b[0m\n\u001b[1;32m    922\u001b[0m \u001b[0;34m\u001b[0m\u001b[0m\n\u001b[1;32m    923\u001b[0m     \u001b[0;32mtry\u001b[0m\u001b[0;34m:\u001b[0m\u001b[0;34m\u001b[0m\u001b[0;34m\u001b[0m\u001b[0m\n\u001b[0;32m--> 924\u001b[0;31m         \u001b[0mp\u001b[0m \u001b[0;34m=\u001b[0m \u001b[0m_parse_sub\u001b[0m\u001b[0;34m(\u001b[0m\u001b[0msource\u001b[0m\u001b[0;34m,\u001b[0m \u001b[0mpattern\u001b[0m\u001b[0;34m,\u001b[0m \u001b[0mflags\u001b[0m \u001b[0;34m&\u001b[0m \u001b[0mSRE_FLAG_VERBOSE\u001b[0m\u001b[0;34m,\u001b[0m \u001b[0;36m0\u001b[0m\u001b[0;34m)\u001b[0m\u001b[0;34m\u001b[0m\u001b[0;34m\u001b[0m\u001b[0m\n\u001b[0m\u001b[1;32m    925\u001b[0m     \u001b[0;32mexcept\u001b[0m \u001b[0mVerbose\u001b[0m\u001b[0;34m:\u001b[0m\u001b[0;34m\u001b[0m\u001b[0;34m\u001b[0m\u001b[0m\n\u001b[1;32m    926\u001b[0m         \u001b[0;31m# the VERBOSE flag was switched on inside the pattern.  to be\u001b[0m\u001b[0;34m\u001b[0m\u001b[0;34m\u001b[0m\u001b[0;34m\u001b[0m\u001b[0m\n",
      "\u001b[0;32m/opt/miniconda3/envs/stats/lib/python3.7/sre_parse.py\u001b[0m in \u001b[0;36m_parse_sub\u001b[0;34m(source, state, verbose, nested)\u001b[0m\n\u001b[1;32m    418\u001b[0m     \u001b[0;32mwhile\u001b[0m \u001b[0;32mTrue\u001b[0m\u001b[0;34m:\u001b[0m\u001b[0;34m\u001b[0m\u001b[0;34m\u001b[0m\u001b[0m\n\u001b[1;32m    419\u001b[0m         itemsappend(_parse(source, state, verbose, nested + 1,\n\u001b[0;32m--> 420\u001b[0;31m                            not nested and not items))\n\u001b[0m\u001b[1;32m    421\u001b[0m         \u001b[0;32mif\u001b[0m \u001b[0;32mnot\u001b[0m \u001b[0msourcematch\u001b[0m\u001b[0;34m(\u001b[0m\u001b[0;34m\"|\"\u001b[0m\u001b[0;34m)\u001b[0m\u001b[0;34m:\u001b[0m\u001b[0;34m\u001b[0m\u001b[0;34m\u001b[0m\u001b[0m\n\u001b[1;32m    422\u001b[0m             \u001b[0;32mbreak\u001b[0m\u001b[0;34m\u001b[0m\u001b[0;34m\u001b[0m\u001b[0m\n",
      "\u001b[0;32m/opt/miniconda3/envs/stats/lib/python3.7/sre_parse.py\u001b[0m in \u001b[0;36m_parse\u001b[0;34m(source, state, verbose, nested, first)\u001b[0m\n\u001b[1;32m    485\u001b[0m         \u001b[0;32mif\u001b[0m \u001b[0mthis\u001b[0m \u001b[0;32min\u001b[0m \u001b[0;34m\"|)\"\u001b[0m\u001b[0;34m:\u001b[0m\u001b[0;34m\u001b[0m\u001b[0;34m\u001b[0m\u001b[0m\n\u001b[1;32m    486\u001b[0m             \u001b[0;32mbreak\u001b[0m \u001b[0;31m# end of subpattern\u001b[0m\u001b[0;34m\u001b[0m\u001b[0;34m\u001b[0m\u001b[0m\n\u001b[0;32m--> 487\u001b[0;31m         \u001b[0msourceget\u001b[0m\u001b[0;34m(\u001b[0m\u001b[0;34m)\u001b[0m\u001b[0;34m\u001b[0m\u001b[0;34m\u001b[0m\u001b[0m\n\u001b[0m\u001b[1;32m    488\u001b[0m \u001b[0;34m\u001b[0m\u001b[0m\n\u001b[1;32m    489\u001b[0m         \u001b[0;32mif\u001b[0m \u001b[0mverbose\u001b[0m\u001b[0;34m:\u001b[0m\u001b[0;34m\u001b[0m\u001b[0;34m\u001b[0m\u001b[0m\n",
      "\u001b[0;32m/opt/miniconda3/envs/stats/lib/python3.7/sre_parse.py\u001b[0m in \u001b[0;36mget\u001b[0;34m(self)\u001b[0m\n\u001b[1;32m    254\u001b[0m     \u001b[0;32mdef\u001b[0m \u001b[0mget\u001b[0m\u001b[0;34m(\u001b[0m\u001b[0mself\u001b[0m\u001b[0;34m)\u001b[0m\u001b[0;34m:\u001b[0m\u001b[0;34m\u001b[0m\u001b[0;34m\u001b[0m\u001b[0m\n\u001b[1;32m    255\u001b[0m         \u001b[0mthis\u001b[0m \u001b[0;34m=\u001b[0m \u001b[0mself\u001b[0m\u001b[0;34m.\u001b[0m\u001b[0mnext\u001b[0m\u001b[0;34m\u001b[0m\u001b[0;34m\u001b[0m\u001b[0m\n\u001b[0;32m--> 256\u001b[0;31m         \u001b[0mself\u001b[0m\u001b[0;34m.\u001b[0m\u001b[0m__next\u001b[0m\u001b[0;34m(\u001b[0m\u001b[0;34m)\u001b[0m\u001b[0;34m\u001b[0m\u001b[0;34m\u001b[0m\u001b[0m\n\u001b[0m\u001b[1;32m    257\u001b[0m         \u001b[0;32mreturn\u001b[0m \u001b[0mthis\u001b[0m\u001b[0;34m\u001b[0m\u001b[0;34m\u001b[0m\u001b[0m\n\u001b[1;32m    258\u001b[0m     \u001b[0;32mdef\u001b[0m \u001b[0mgetwhile\u001b[0m\u001b[0;34m(\u001b[0m\u001b[0mself\u001b[0m\u001b[0;34m,\u001b[0m \u001b[0mn\u001b[0m\u001b[0;34m,\u001b[0m \u001b[0mcharset\u001b[0m\u001b[0;34m)\u001b[0m\u001b[0;34m:\u001b[0m\u001b[0;34m\u001b[0m\u001b[0;34m\u001b[0m\u001b[0m\n",
      "\u001b[0;32m/opt/miniconda3/envs/stats/lib/python3.7/sre_parse.py\u001b[0m in \u001b[0;36m__next\u001b[0;34m(self)\u001b[0m\n\u001b[1;32m    246\u001b[0m                             self.string, len(self.string) - 1) from None\n\u001b[1;32m    247\u001b[0m         \u001b[0mself\u001b[0m\u001b[0;34m.\u001b[0m\u001b[0mindex\u001b[0m \u001b[0;34m=\u001b[0m \u001b[0mindex\u001b[0m \u001b[0;34m+\u001b[0m \u001b[0;36m1\u001b[0m\u001b[0;34m\u001b[0m\u001b[0;34m\u001b[0m\u001b[0m\n\u001b[0;32m--> 248\u001b[0;31m         \u001b[0mself\u001b[0m\u001b[0;34m.\u001b[0m\u001b[0mnext\u001b[0m \u001b[0;34m=\u001b[0m \u001b[0mchar\u001b[0m\u001b[0;34m\u001b[0m\u001b[0;34m\u001b[0m\u001b[0m\n\u001b[0m\u001b[1;32m    249\u001b[0m     \u001b[0;32mdef\u001b[0m \u001b[0mmatch\u001b[0m\u001b[0;34m(\u001b[0m\u001b[0mself\u001b[0m\u001b[0;34m,\u001b[0m \u001b[0mchar\u001b[0m\u001b[0;34m)\u001b[0m\u001b[0;34m:\u001b[0m\u001b[0;34m\u001b[0m\u001b[0;34m\u001b[0m\u001b[0m\n\u001b[1;32m    250\u001b[0m         \u001b[0;32mif\u001b[0m \u001b[0mchar\u001b[0m \u001b[0;34m==\u001b[0m \u001b[0mself\u001b[0m\u001b[0;34m.\u001b[0m\u001b[0mnext\u001b[0m\u001b[0;34m:\u001b[0m\u001b[0;34m\u001b[0m\u001b[0;34m\u001b[0m\u001b[0m\n",
      "\u001b[0;31mKeyboardInterrupt\u001b[0m: "
     ]
    }
   ],
   "source": [
    "\n",
    "def test_uncompiled(num_tests):\n",
    "    samples = random.sample(regexes, num_tests)\n",
    "    texts = samples\n",
    "\n",
    "    start = time.time()\n",
    "    re_results = []\n",
    "    for j in tqdm(range(len(texts))):\n",
    "        for i in range(len(regexes)):\n",
    "            x = re.search(re.escape(regexes[i]), texts[j])\n",
    "            if x:\n",
    "                re_results.append(x)\n",
    "    end = time.time()\n",
    "\n",
    "    results = []\n",
    "    start2 = time.time()\n",
    "    for i in tqdm(range(len(texts))):\n",
    "        results.append(regexes_matching_string_uncompiled(texts[i], lagoons))\n",
    "    end2 = time.time()\n",
    "\n",
    "    print(f\"Brute force: {end - start}; Tree: {end2 - start2}; Factor: {(end-start) / (end2-start2)}\")\n",
    "    \n",
    "    return {'results': results, 'brute_time': end - start, 'drag_time': end2-start2}\n",
    "\n",
    "test_results_unc = [test_uncompiled(num) for num in test_sizes]\n",
    "\n"
   ]
  },
  {
   "cell_type": "code",
   "execution_count": 82,
   "metadata": {},
   "outputs": [
    {
     "name": "stdout",
     "output_type": "stream",
     "text": [
      "Num tests: 10 : Brute time: 0.8677456378936768 Drag time: 0.041022300720214844 Row checks: 407 Direct evaluations:  42\n",
      "Num tests: 100 : Brute time: 8.620949983596802 Drag time: 0.30213093757629395 Row checks: 417 Direct evaluations:  71\n",
      "Num tests: 1000 : Brute time: 86.35677599906921 Drag time: 2.8943521976470947 Row checks: 419 Direct evaluations:  103\n"
     ]
    }
   ],
   "source": [
    "for num, result in zip(test_sizes, test_results_unc):\n",
    "    reg = result['results'][0]['regexes_checked']\n",
    "    rows = result['results'][0]['rows_checked']\n",
    "    print(\"Num tests:\", num, \":\", \"Brute time:\", result['brute_time'], \"Drag time:\", result['drag_time'], \"Row checks:\", rows, \"Direct evaluations: \", reg)"
   ]
  },
  {
   "cell_type": "code",
   "execution_count": 83,
   "metadata": {},
   "outputs": [
    {
     "name": "stdout",
     "output_type": "stream",
     "text": [
      "1243\n",
      "1186\n",
      "1206\n",
      "216\n",
      "42\n",
      "93\n"
     ]
    }
   ],
   "source": [
    "print(sum([res['results'][0]['rows_checked'] for res in test_results_unc]))\n",
    "print(sum([res['results'][1]['rows_checked'] for res in test_results_unc]))\n",
    "print(sum([res['results'][2]['rows_checked'] for res in test_results_unc]))\n",
    "print(sum([res['results'][0]['regexes_checked'] for res in test_results_unc]))\n",
    "print(sum([res['results'][1]['regexes_checked'] for res in test_results_unc]))\n",
    "print(sum([res['results'][2]['regexes_checked'] for res in test_results_unc]))"
   ]
  },
  {
   "cell_type": "code",
   "execution_count": 84,
   "metadata": {},
   "outputs": [
    {
     "name": "stdout",
     "output_type": "stream",
     "text": [
      "240\n",
      "3586\n",
      "33927\n",
      "3982\n",
      "40264\n",
      "402933\n"
     ]
    }
   ],
   "source": [
    "print(sum([test_results_unc[0]['results'][i]['regexes_checked'] for i in range(10)]))\n",
    "print(sum([test_results_unc[1]['results'][i]['regexes_checked'] for i in range(100)]))\n",
    "print(sum([test_results_unc[2]['results'][i]['regexes_checked'] for i in range(1000)]))\n",
    "print(sum([test_results_unc[0]['results'][i]['rows_checked'] for i in range(10)]))\n",
    "print(sum([test_results_unc[1]['results'][i]['rows_checked'] for i in range(100)]))\n",
    "print(sum([test_results_unc[2]['results'][i]['rows_checked'] for i in range(1000)]))"
   ]
  },
  {
   "cell_type": "code",
   "execution_count": 85,
   "metadata": {},
   "outputs": [],
   "source": [
    "import cProfile, pstats, io\n",
    "from pstats import SortKey\n",
    "pr = cProfile.Profile()"
   ]
  },
  {
   "cell_type": "code",
   "execution_count": 86,
   "metadata": {},
   "outputs": [
    {
     "name": "stderr",
     "output_type": "stream",
     "text": [
      "100%|██████████| 10/10 [00:00<00:00, 3481.04it/s]\n",
      "100%|██████████| 10/10 [00:00<00:00, 216.67it/s]\n",
      "100%|██████████| 100/100 [00:00<00:00, 3237.94it/s]\n",
      " 22%|██▏       | 22/100 [00:00<00:00, 214.30it/s]"
     ]
    },
    {
     "name": "stdout",
     "output_type": "stream",
     "text": [
      "Brute force: 0.004554033279418945; Tree: 0.04777193069458008; Factor: 0.09532864201227728\n"
     ]
    },
    {
     "name": "stderr",
     "output_type": "stream",
     "text": [
      "100%|██████████| 100/100 [00:00<00:00, 221.08it/s]\n",
      " 38%|███▊      | 381/1000 [00:00<00:00, 3809.74it/s]"
     ]
    },
    {
     "name": "stdout",
     "output_type": "stream",
     "text": [
      "Brute force: 0.03206586837768555; Tree: 0.45335984230041504; Factor: 0.07072939723769661\n"
     ]
    },
    {
     "name": "stderr",
     "output_type": "stream",
     "text": [
      "100%|██████████| 1000/1000 [00:00<00:00, 3804.05it/s]\n",
      "100%|██████████| 1000/1000 [00:04<00:00, 232.16it/s]"
     ]
    },
    {
     "name": "stdout",
     "output_type": "stream",
     "text": [
      "Brute force: 0.2642381191253662; Tree: 4.308779001235962; Factor: 0.06132552146433368\n"
     ]
    },
    {
     "name": "stderr",
     "output_type": "stream",
     "text": [
      "\n"
     ]
    }
   ],
   "source": [
    "test_sizes = [10, 100, 1000]\n",
    "\n",
    "def test_compiled(num_tests):\n",
    "    samples = random.sample(regexes, num_tests)\n",
    "    texts = samples\n",
    "\n",
    "    start = time.time()\n",
    "    re_results = []\n",
    "    for j in tqdm(range(len(texts))):\n",
    "        for i in range(len(regexes)):\n",
    "            x = compiled_regexes[i].search(texts[j])\n",
    "            if x:\n",
    "                re_results.append(x)\n",
    "    end = time.time()\n",
    "\n",
    "    results = []\n",
    "    start2 = time.time()\n",
    "    pr.enable()\n",
    "    for i in tqdm(range(len(texts))):\n",
    "        results.append(regexes_matching_string(texts[i], lagoons2))\n",
    "    pr.disable()\n",
    "    end2 = time.time()\n",
    "\n",
    "    print(f\"Brute force: {end - start}; Tree: {end2 - start2}; Factor: {(end-start) / (end2-start2)}\")\n",
    "    \n",
    "    return {'results': results, 'brute_time': end - start, 'drag_time': end2-start2}\n",
    "\n",
    "test_results = [test_compiled(num) for num in test_sizes]\n"
   ]
  },
  {
   "cell_type": "code",
   "execution_count": 87,
   "metadata": {},
   "outputs": [
    {
     "name": "stdout",
     "output_type": "stream",
     "text": [
      "         8258142 function calls (8257032 primitive calls) in 4.782 seconds\n",
      "\n",
      "   Ordered by: cumulative time\n",
      "\n",
      "   ncalls  tottime  percall  cumtime  percall filename:lineno(function)\n",
      "     1110    0.019    0.000    4.743    0.004 <ipython-input-78-6df9809fb359>:29(regexes_matching_string)\n",
      "     1110    0.011    0.000    4.105    0.004 <ipython-input-69-ac640612672e>:11(sparsify_single)\n",
      "2220/1110    0.020    0.000    3.649    0.003 /opt/miniconda3/envs/stats/lib/python3.7/site-packages/scipy/sparse/dok.py:74(__init__)\n",
      "     2271    0.104    0.000    3.372    0.001 {method 'update' of 'dict' objects}\n",
      "   140123    0.156    0.000    3.268    0.000 /opt/miniconda3/envs/stats/lib/python3.7/site-packages/scipy/sparse/_index.py:32(__getitem__)\n",
      "   140123    0.223    0.000    2.448    0.000 /opt/miniconda3/envs/stats/lib/python3.7/site-packages/scipy/sparse/_index.py:126(_validate_indices)\n",
      "   140123    0.447    0.000    1.561    0.000 /opt/miniconda3/envs/stats/lib/python3.7/site-packages/scipy/sparse/_index.py:245(_unpack_index)\n",
      "   282466    0.181    0.000    0.652    0.000 /opt/miniconda3/envs/stats/lib/python3.7/site-packages/scipy/sparse/sputils.py:186(isintlike)\n",
      "   140123    0.150    0.000    0.639    0.000 /opt/miniconda3/envs/stats/lib/python3.7/site-packages/scipy/sparse/dok.py:156(_get_intXint)\n",
      "   280246    0.143    0.000    0.613    0.000 /opt/miniconda3/envs/stats/lib/python3.7/site-packages/scipy/sparse/_index.py:354(_compatible_boolean_index)\n",
      "     1110    0.041    0.000    0.607    0.001 <ipython-input-78-6df9809fb359>:7(query_lagoon)\n",
      "   140123    0.489    0.000    0.489    0.000 {function dok_matrix.get at 0x7fe5a089c7a0}\n",
      "     8880    0.106    0.000    0.484    0.000 <ipython-input-78-6df9809fb359>:13(<listcomp>)\n",
      "   284686    0.128    0.000    0.443    0.000 <__array_function__ internals>:2(ndim)\n",
      "   280246    0.129    0.000    0.435    0.000 /opt/miniconda3/envs/stats/lib/python3.7/site-packages/scipy/sparse/_index.py:330(_maybe_bool_ndarray)\n",
      "     1110    0.019    0.000    0.421    0.000 <ipython-input-6-a0e763edae8d>:4(configure_bloom)\n",
      "   449186    0.349    0.000    0.377    0.000 <ipython-input-78-6df9809fb359>:1(sparse_match)\n",
      "    37178    0.064    0.000    0.369    0.000 /opt/miniconda3/envs/stats/lib/python3.7/site-packages/bloom_filter/bloom_filter.py:557(add)\n",
      "   282466    0.067    0.000    0.309    0.000 /opt/miniconda3/envs/stats/lib/python3.7/site-packages/numpy/core/_asarray.py:86(asanyarray)\n",
      "   288016    0.242    0.000    0.300    0.000 {built-in method numpy.core._multiarray_umath.implement_array_function}\n",
      "   293566    0.257    0.000    0.257    0.000 {built-in method numpy.array}\n",
      "   185890    0.110    0.000    0.230    0.000 /opt/miniconda3/envs/stats/lib/python3.7/site-packages/bloom_filter/bloom_filter.py:467(get_bitno_lin_comb)\n",
      "     1110    0.019    0.000    0.196    0.000 /opt/miniconda3/envs/stats/lib/python3.7/site-packages/scipy/sparse/coo.py:126(__init__)\n",
      "   497020    0.143    0.000    0.143    0.000 {built-in method builtins.hasattr}\n",
      "   142352    0.041    0.000    0.142    0.000 <frozen importlib._bootstrap>:1009(_handle_fromlist)\n",
      "   140123    0.113    0.000    0.125    0.000 /opt/miniconda3/envs/stats/lib/python3.7/site-packages/scipy/sparse/_index.py:291(_check_ellipsis)\n",
      "  1024861    0.116    0.000    0.116    0.000 {built-in method builtins.isinstance}\n",
      "   282466    0.063    0.000    0.096    0.000 /opt/miniconda3/envs/stats/lib/python3.7/site-packages/scipy/sparse/base.py:1188(isspmatrix)\n",
      "   142343    0.066    0.000    0.092    0.000 <frozen importlib._bootstrap>:416(parent)\n",
      "     1110    0.010    0.000    0.084    0.000 /opt/miniconda3/envs/stats/lib/python3.7/site-packages/scipy/sparse/coo.py:445(todok)\n",
      "     1110    0.084    0.000    0.084    0.000 {method 'nonzero' of 'numpy.ndarray' objects}\n",
      "     1110    0.025    0.000    0.080    0.000 /opt/miniconda3/envs/stats/lib/python3.7/site-packages/scipy/sparse/coo.py:265(_check)\n",
      "    11402    0.023    0.000    0.078    0.000 <ipython-input-78-6df9809fb359>:22(get_base_regexes)\n",
      "   148712    0.058    0.000    0.074    0.000 /opt/miniconda3/envs/stats/lib/python3.7/site-packages/bloom_filter/bloom_filter.py:400(set)\n",
      "    78567    0.055    0.000    0.055    0.000 <ipython-input-78-6df9809fb359>:25(<listcomp>)\n",
      "    74356    0.054    0.000    0.054    0.000 /opt/miniconda3/envs/stats/lib/python3.7/site-packages/bloom_filter/bloom_filter.py:449(simple_hash)\n",
      "   284686    0.044    0.000    0.048    0.000 /opt/miniconda3/envs/stats/lib/python3.7/site-packages/numpy/core/fromnumeric.py:3075(ndim)\n",
      "    37178    0.013    0.000    0.041    0.000 /opt/miniconda3/envs/stats/lib/python3.7/site-packages/bloom_filter/bloom_filter.py:457(hash1)\n",
      "     1110    0.001    0.000    0.039    0.000 /opt/miniconda3/envs/stats/lib/python3.7/site-packages/scipy/sparse/dok.py:114(_update)\n",
      "    37178    0.012    0.000    0.038    0.000 /opt/miniconda3/envs/stats/lib/python3.7/site-packages/bloom_filter/bloom_filter.py:462(hash2)\n",
      "     1113    0.003    0.000    0.037    0.000 /opt/miniconda3/envs/stats/lib/python3.7/site-packages/tqdm/std.py:1136(__iter__)\n",
      "   289126    0.035    0.000    0.035    0.000 {built-in method _operator.index}\n",
      "       51    0.000    0.000    0.034    0.001 /opt/miniconda3/envs/stats/lib/python3.7/site-packages/tqdm/std.py:1491(display)\n",
      "       48    0.000    0.000    0.033    0.001 /opt/miniconda3/envs/stats/lib/python3.7/site-packages/tqdm/std.py:1360(refresh)\n",
      "   284686    0.033    0.000    0.033    0.000 /opt/miniconda3/envs/stats/lib/python3.7/site-packages/numpy/core/fromnumeric.py:3071(_ndim_dispatcher)\n",
      "    37178    0.022    0.000    0.031    0.000 /opt/miniconda3/envs/stats/lib/python3.7/site-packages/bloom_filter/bloom_filter.py:483(<listcomp>)\n",
      "       51    0.000    0.000    0.029    0.001 /opt/miniconda3/envs/stats/lib/python3.7/site-packages/tqdm/std.py:336(print_status)\n",
      "   449186    0.028    0.000    0.028    0.000 {method 'keys' of 'dict' objects}\n",
      "      108    0.000    0.000    0.028    0.000 /opt/miniconda3/envs/stats/lib/python3.7/site-packages/tqdm/utils.py:141(inner)\n",
      "       51    0.000    0.000    0.028    0.001 /opt/miniconda3/envs/stats/lib/python3.7/site-packages/tqdm/std.py:330(fp_write)\n",
      "   142343    0.026    0.000    0.026    0.000 {method 'rpartition' of 'str' objects}\n",
      "   144563    0.025    0.000    0.025    0.000 /opt/miniconda3/envs/stats/lib/python3.7/site-packages/scipy/sparse/base.py:80(get_shape)\n",
      "       51    0.000    0.000    0.021    0.000 /opt/miniconda3/envs/stats/lib/python3.7/site-packages/ipykernel/iostream.py:337(flush)\n",
      "     4440    0.021    0.000    0.021    0.000 {method 'reduce' of 'numpy.ufunc' objects}\n",
      "     1110    0.002    0.000    0.020    0.000 /opt/miniconda3/envs/stats/lib/python3.7/site-packages/scipy/sparse/sputils.py:208(isshape)\n",
      "       51    0.000    0.000    0.020    0.000 /opt/miniconda3/envs/stats/lib/python3.7/threading.py:534(wait)\n",
      "       51    0.000    0.000    0.019    0.000 /opt/miniconda3/envs/stats/lib/python3.7/threading.py:264(wait)\n",
      "      465    0.019    0.000    0.019    0.000 {method 'acquire' of '_thread.lock' objects}\n",
      "    11100    0.003    0.000    0.019    0.000 /opt/miniconda3/envs/stats/lib/python3.7/site-packages/numpy/core/_asarray.py:14(asarray)\n",
      "     2220    0.002    0.000    0.018    0.000 {method 'max' of 'numpy.ndarray' objects}\n",
      "     1110    0.009    0.000    0.017    0.000 /opt/miniconda3/envs/stats/lib/python3.7/site-packages/bloom_filter/bloom_filter.py:507(__init__)\n",
      "   172373    0.017    0.000    0.017    0.000 {built-in method builtins.len}\n",
      "   148961    0.017    0.000    0.017    0.000 {built-in method builtins.divmod}\n",
      "     3330    0.011    0.000    0.016    0.000 /opt/miniconda3/envs/stats/lib/python3.7/site-packages/scipy/sparse/sputils.py:265(check_shape)\n",
      "     2220    0.001    0.000    0.016    0.000 /opt/miniconda3/envs/stats/lib/python3.7/site-packages/numpy/core/_methods.py:37(_amax)\n",
      "     1110    0.003    0.000    0.015    0.000 <ipython-input-69-ac640612672e>:1(to_bit_array)\n",
      "     1110    0.005    0.000    0.013    0.000 /opt/miniconda3/envs/stats/lib/python3.7/site-packages/scipy/sparse/sputils.py:119(get_index_dtype)\n",
      "     2220    0.002    0.000    0.013    0.000 <__array_function__ internals>:2(atleast_2d)\n",
      "    42007    0.012    0.000    0.012    0.000 {method 'search' of 're.Pattern' objects}\n",
      "    38288    0.010    0.000    0.011    0.000 <ipython-input-5-7cb2582f60df>:1(string_to_ngram_set)\n",
      "     1110    0.002    0.000    0.009    0.000 <__array_function__ internals>:2(unpackbits)\n",
      "     2220    0.006    0.000    0.009    0.000 /opt/miniconda3/envs/stats/lib/python3.7/site-packages/numpy/core/shape_base.py:82(atleast_2d)\n",
      "   112605    0.009    0.000    0.009    0.000 {built-in method builtins.ord}\n",
      "     2220    0.001    0.000    0.008    0.000 {method 'min' of 'numpy.ndarray' objects}\n",
      "     2220    0.001    0.000    0.007    0.000 /opt/miniconda3/envs/stats/lib/python3.7/site-packages/numpy/core/_methods.py:41(_amin)\n",
      "      210    0.001    0.000    0.006    0.000 /opt/miniconda3/envs/stats/lib/python3.7/site-packages/ipykernel/iostream.py:197(schedule)\n",
      "     2220    0.006    0.000    0.006    0.000 /opt/miniconda3/envs/stats/lib/python3.7/site-packages/numpy/core/getlimits.py:498(__init__)\n",
      "     2220    0.006    0.000    0.006    0.000 /opt/miniconda3/envs/stats/lib/python3.7/site-packages/scipy/sparse/sputils.py:95(getdtype)\n",
      "       57    0.000    0.000    0.006    0.000 /opt/miniconda3/envs/stats/lib/python3.7/site-packages/ipykernel/iostream.py:386(write)\n",
      "     1110    0.005    0.000    0.005    0.000 /opt/miniconda3/envs/stats/lib/python3.7/site-packages/bloom_filter/bloom_filter.py:389(__init__)\n",
      "      210    0.005    0.000    0.005    0.000 /opt/miniconda3/envs/stats/lib/python3.7/site-packages/zmq/sugar/socket.py:432(send)\n",
      "     3330    0.005    0.000    0.005    0.000 /opt/miniconda3/envs/stats/lib/python3.7/site-packages/scipy/sparse/base.py:66(__init__)\n",
      "       51    0.000    0.000    0.004    0.000 /opt/miniconda3/envs/stats/lib/python3.7/site-packages/tqdm/std.py:1126(__repr__)\n",
      "     9990    0.003    0.000    0.004    0.000 /opt/miniconda3/envs/stats/lib/python3.7/site-packages/scipy/sparse/sputils.py:278(<genexpr>)\n",
      "     1110    0.001    0.000    0.004    0.000 /opt/miniconda3/envs/stats/lib/python3.7/site-packages/scipy/sparse/base.py:238(nnz)\n",
      "       51    0.001    0.000    0.004    0.000 /opt/miniconda3/envs/stats/lib/python3.7/site-packages/tqdm/std.py:343(format_meter)\n",
      "     1110    0.002    0.000    0.004    0.000 /opt/miniconda3/envs/stats/lib/python3.7/site-packages/scipy/sparse/sputils.py:91(to_native)\n",
      "     1110    0.003    0.000    0.003    0.000 {method 'view' of 'numpy.ndarray' objects}\n",
      "    13339    0.003    0.000    0.003    0.000 <ipython-input-78-6df9809fb359>:17(<listcomp>)\n",
      "     1110    0.002    0.000    0.003    0.000 /opt/miniconda3/envs/stats/lib/python3.7/site-packages/scipy/sparse/coo.py:239(getnnz)\n",
      "     1110    0.001    0.000    0.002    0.000 /opt/miniconda3/envs/stats/lib/python3.7/site-packages/scipy/sparse/data.py:20(__init__)\n",
      "     3330    0.002    0.000    0.002    0.000 {built-in method math.log}\n",
      "        7    0.000    0.000    0.002    0.000 /opt/miniconda3/envs/stats/lib/python3.7/site-packages/tqdm/std.py:1304(close)\n",
      "        3    0.000    0.000    0.002    0.001 /opt/miniconda3/envs/stats/lib/python3.7/site-packages/tqdm/std.py:828(__init__)\n",
      "       51    0.000    0.000    0.002    0.000 /opt/miniconda3/envs/stats/lib/python3.7/site-packages/tqdm/utils.py:325(disp_len)\n",
      "       51    0.000    0.000    0.002    0.000 /opt/miniconda3/envs/stats/lib/python3.7/site-packages/tqdm/utils.py:320(_text_width)\n",
      "       51    0.000    0.000    0.001    0.000 {built-in method builtins.sum}\n",
      "     2602    0.001    0.000    0.001    0.000 /opt/miniconda3/envs/stats/lib/python3.7/site-packages/tqdm/utils.py:322(<genexpr>)\n",
      "     1110    0.001    0.000    0.001    0.000 /opt/miniconda3/envs/stats/lib/python3.7/site-packages/numpy/core/getlimits.py:509(min)\n",
      "     2220    0.001    0.000    0.001    0.000 {built-in method math.ceil}\n",
      "     1161    0.001    0.000    0.001    0.000 {built-in method builtins.max}\n",
      "      399    0.001    0.000    0.001    0.000 {method 'format' of 'str' objects}\n",
      "     1110    0.001    0.000    0.001    0.000 {method 'newbyteorder' of 'numpy.dtype' objects}\n",
      "       57    0.000    0.000    0.001    0.000 /opt/miniconda3/envs/stats/lib/python3.7/site-packages/ipykernel/iostream.py:323(_schedule_flush)\n",
      "     4449    0.001    0.000    0.001    0.000 {method 'append' of 'list' objects}\n",
      "      261    0.000    0.000    0.001    0.000 /opt/miniconda3/envs/stats/lib/python3.7/threading.py:1092(is_alive)\n",
      "     1110    0.001    0.000    0.001    0.000 /opt/miniconda3/envs/stats/lib/python3.7/site-packages/numpy/core/getlimits.py:522(max)\n",
      "       60    0.000    0.000    0.001    0.000 /opt/miniconda3/envs/stats/lib/python3.7/site-packages/tqdm/std.py:104(acquire)\n",
      "       51    0.000    0.000    0.001    0.000 /opt/miniconda3/envs/stats/lib/python3.7/threading.py:499(__init__)\n",
      "       99    0.000    0.000    0.000    0.000 /opt/miniconda3/envs/stats/lib/python3.7/site-packages/tqdm/std.py:260(format_interval)\n",
      "     1110    0.000    0.000    0.000    0.000 /opt/miniconda3/envs/stats/lib/python3.7/site-packages/scipy/sparse/data.py:23(_get_dtype)\n",
      "     2551    0.000    0.000    0.000    0.000 {built-in method unicodedata.east_asian_width}\n",
      "       51    0.000    0.000    0.000    0.000 /opt/miniconda3/envs/stats/lib/python3.7/site-packages/tqdm/std.py:1473(format_dict)\n",
      "        6    0.000    0.000    0.000    0.000 /opt/miniconda3/envs/stats/lib/python3.7/site-packages/tqdm/std.py:1321(fp_write)\n",
      "     1110    0.000    0.000    0.000    0.000 /opt/miniconda3/envs/stats/lib/python3.7/site-packages/scipy/sparse/coo.py:526(sum_duplicates)\n",
      "      102    0.000    0.000    0.000    0.000 /opt/miniconda3/envs/stats/lib/python3.7/site-packages/tqdm/utils.py:214(_is_ascii)\n",
      "     2220    0.000    0.000    0.000    0.000 /opt/miniconda3/envs/stats/lib/python3.7/site-packages/numpy/core/shape_base.py:78(_atleast_2d_dispatcher)\n",
      "       60    0.000    0.000    0.000    0.000 /opt/miniconda3/envs/stats/lib/python3.7/site-packages/tqdm/std.py:108(release)\n",
      "       51    0.000    0.000    0.000    0.000 /opt/miniconda3/envs/stats/lib/python3.7/threading.py:216(__init__)\n",
      "      261    0.000    0.000    0.000    0.000 /opt/miniconda3/envs/stats/lib/python3.7/threading.py:1050(_wait_for_tstate_lock)\n",
      "       60    0.000    0.000    0.000    0.000 {method 'acquire' of '_multiprocessing.SemLock' objects}\n",
      "     1110    0.000    0.000    0.000    0.000 /opt/miniconda3/envs/stats/lib/python3.7/site-packages/numpy/core/multiarray.py:1181(unpackbits)\n",
      "       48    0.000    0.000    0.000    0.000 {built-in method now}\n",
      "       51    0.000    0.000    0.000    0.000 /opt/miniconda3/envs/stats/lib/python3.7/site-packages/tqdm/std.py:189(__format__)\n",
      "      210    0.000    0.000    0.000    0.000 /opt/miniconda3/envs/stats/lib/python3.7/site-packages/ipykernel/iostream.py:93(_event_pipe)\n",
      "       51    0.000    0.000    0.000    0.000 /opt/miniconda3/envs/stats/lib/python3.7/site-packages/tqdm/std.py:156(__init__)\n",
      "       60    0.000    0.000    0.000    0.000 {method 'release' of '_multiprocessing.SemLock' objects}\n",
      "      306    0.000    0.000    0.000    0.000 {built-in method time.time}\n",
      "       57    0.000    0.000    0.000    0.000 /opt/miniconda3/envs/stats/lib/python3.7/site-packages/ipykernel/iostream.py:310(_is_master_process)\n",
      "        3    0.000    0.000    0.000    0.000 /opt/miniconda3/envs/stats/lib/python3.7/site-packages/tqdm/std.py:580(_decr_instances)\n",
      "       51    0.000    0.000    0.000    0.000 {method 'sub' of 're.Pattern' objects}\n",
      "        3    0.000    0.000    0.000    0.000 /opt/miniconda3/envs/stats/lib/python3.7/site-packages/tqdm/utils.py:273(_screen_shape_linux)\n",
      "      102    0.000    0.000    0.000    0.000 {built-in method _thread.allocate_lock}\n",
      "       51    0.000    0.000    0.000    0.000 /opt/miniconda3/envs/stats/lib/python3.7/threading.py:252(_acquire_restore)\n",
      "       90    0.000    0.000    0.000    0.000 /opt/miniconda3/envs/stats/lib/python3.7/site-packages/tqdm/std.py:301(ema)\n",
      "        3    0.000    0.000    0.000    0.000 /opt/miniconda3/envs/stats/lib/python3.7/site-packages/tqdm/std.py:557(__new__)\n",
      "      264    0.000    0.000    0.000    0.000 /opt/miniconda3/envs/stats/lib/python3.7/threading.py:507(is_set)\n",
      "       51    0.000    0.000    0.000    0.000 /opt/miniconda3/envs/stats/lib/python3.7/threading.py:240(__enter__)\n",
      "       12    0.000    0.000    0.000    0.000 /opt/miniconda3/envs/stats/lib/python3.7/site-packages/tqdm/std.py:112(__enter__)\n",
      "       51    0.000    0.000    0.000    0.000 /opt/miniconda3/envs/stats/lib/python3.7/threading.py:243(__exit__)\n",
      "        9    0.000    0.000    0.000    0.000 /opt/miniconda3/envs/stats/lib/python3.7/_weakrefset.py:58(__iter__)\n",
      "       12    0.000    0.000    0.000    0.000 /opt/miniconda3/envs/stats/lib/python3.7/site-packages/tqdm/std.py:115(__exit__)\n",
      "        3    0.000    0.000    0.000    0.000 /opt/miniconda3/envs/stats/lib/python3.7/site-packages/tqdm/std.py:573(_get_free_pos)\n",
      "       51    0.000    0.000    0.000    0.000 /opt/miniconda3/envs/stats/lib/python3.7/threading.py:249(_release_save)\n",
      "       60    0.000    0.000    0.000    0.000 {method 'acquire' of '_thread.RLock' objects}\n",
      "       51    0.000    0.000    0.000    0.000 /opt/miniconda3/envs/stats/lib/python3.7/threading.py:255(_is_owned)\n",
      "       51    0.000    0.000    0.000    0.000 /opt/miniconda3/envs/stats/lib/python3.7/site-packages/tqdm/utils.py:57(__init__)\n",
      "      261    0.000    0.000    0.000    0.000 {method 'append' of 'collections.deque' objects}\n",
      "       51    0.000    0.000    0.000    0.000 /opt/miniconda3/envs/stats/lib/python3.7/site-packages/tqdm/std.py:170(colour)\n",
      "       51    0.000    0.000    0.000    0.000 /opt/miniconda3/envs/stats/lib/python3.7/site-packages/tqdm/utils.py:61(__format__)\n",
      "        3    0.000    0.000    0.000    0.000 /opt/miniconda3/envs/stats/lib/python3.7/_weakrefset.py:106(remove)\n",
      "        3    0.000    0.000    0.000    0.000 /opt/miniconda3/envs/stats/lib/python3.7/site-packages/tqdm/utils.py:287(<listcomp>)\n",
      "        3    0.000    0.000    0.000    0.000 /opt/miniconda3/envs/stats/lib/python3.7/site-packages/tqdm/std.py:576(<genexpr>)\n",
      "        3    0.000    0.000    0.000    0.000 /opt/miniconda3/envs/stats/lib/python3.7/site-packages/tqdm/utils.py:154(__init__)\n",
      "       57    0.000    0.000    0.000    0.000 {built-in method builtins.abs}\n",
      "       57    0.000    0.000    0.000    0.000 {built-in method posix.getpid}\n",
      "        9    0.000    0.000    0.000    0.000 {method 'remove' of 'set' objects}\n",
      "       51    0.000    0.000    0.000    0.000 {method '__enter__' of '_thread.lock' objects}\n",
      "        3    0.000    0.000    0.000    0.000 /opt/miniconda3/envs/stats/lib/python3.7/os.py:676(__getitem__)\n",
      "       51    0.000    0.000    0.000    0.000 {built-in method _imp.lock_held}\n",
      "        3    0.000    0.000    0.000    0.000 {built-in method fcntl.ioctl}\n",
      "       60    0.000    0.000    0.000    0.000 {method 'release' of '_thread.RLock' objects}\n",
      "        6    0.000    0.000    0.000    0.000 /opt/miniconda3/envs/stats/lib/python3.7/_weakrefset.py:26(__exit__)\n",
      "        3    0.000    0.000    0.000    0.000 /opt/miniconda3/envs/stats/lib/python3.7/_weakrefset.py:81(add)\n",
      "        3    0.000    0.000    0.000    0.000 /opt/miniconda3/envs/stats/lib/python3.7/site-packages/tqdm/utils.py:207(_supports_unicode)\n",
      "        9    0.000    0.000    0.000    0.000 {method 'add' of 'set' objects}\n",
      "       51    0.000    0.000    0.000    0.000 {method '__exit__' of '_thread.lock' objects}\n",
      "        3    0.000    0.000    0.000    0.000 /opt/miniconda3/envs/stats/lib/python3.7/site-packages/tqdm/utils.py:74(__eq__)\n",
      "        3    0.000    0.000    0.000    0.000 /opt/miniconda3/envs/stats/lib/python3.7/os.py:754(encode)\n",
      "        6    0.000    0.000    0.000    0.000 /opt/miniconda3/envs/stats/lib/python3.7/_weakrefset.py:20(__enter__)\n",
      "        6    0.000    0.000    0.000    0.000 /opt/miniconda3/envs/stats/lib/python3.7/site-packages/tqdm/std.py:1129(_comparable)\n",
      "        9    0.000    0.000    0.000    0.000 /opt/miniconda3/envs/stats/lib/python3.7/site-packages/tqdm/utils.py:101(wrapper_setattr)\n",
      "        3    0.000    0.000    0.000    0.000 /opt/miniconda3/envs/stats/lib/python3.7/site-packages/tqdm/utils.py:105(__init__)\n",
      "       51    0.000    0.000    0.000    0.000 {method 'release' of '_thread.lock' objects}\n",
      "        3    0.000    0.000    0.000    0.000 {built-in method utcfromtimestamp}\n",
      "       51    0.000    0.000    0.000    0.000 /opt/miniconda3/envs/stats/lib/python3.7/site-packages/tqdm/std.py:166(colour)\n",
      "        4    0.000    0.000    0.000    0.000 /opt/miniconda3/envs/stats/lib/python3.7/site-packages/tqdm/std.py:1123(__del__)\n",
      "       18    0.000    0.000    0.000    0.000 {built-in method builtins.getattr}\n",
      "        6    0.000    0.000    0.000    0.000 /opt/miniconda3/envs/stats/lib/python3.7/site-packages/tqdm/std.py:1133(__hash__)\n",
      "        3    0.000    0.000    0.000    0.000 /opt/miniconda3/envs/stats/lib/python3.7/site-packages/tqdm/std.py:654(get_lock)\n",
      "        6    0.000    0.000    0.000    0.000 /opt/miniconda3/envs/stats/lib/python3.7/site-packages/tqdm/utils.py:88(__getattr__)\n",
      "        3    0.000    0.000    0.000    0.000 /opt/miniconda3/envs/stats/lib/python3.7/site-packages/tqdm/utils.py:163(__eq__)\n",
      "        3    0.000    0.000    0.000    0.000 /opt/miniconda3/envs/stats/lib/python3.7/site-packages/tqdm/_monitor.py:92(report)\n",
      "        6    0.000    0.000    0.000    0.000 {method 'encode' of 'str' objects}\n",
      "        6    0.000    0.000    0.000    0.000 {built-in method builtins.id}\n",
      "        3    0.000    0.000    0.000    0.000 /opt/miniconda3/envs/stats/lib/python3.7/site-packages/tqdm/std.py:320(status_printer)\n",
      "        6    0.000    0.000    0.000    0.000 /opt/miniconda3/envs/stats/lib/python3.7/_weakrefset.py:16(__init__)\n",
      "        6    0.000    0.000    0.000    0.000 /opt/miniconda3/envs/stats/lib/python3.7/site-packages/tqdm/utils.py:136(disable_on_exception)\n",
      "        3    0.000    0.000    0.000    0.000 /opt/miniconda3/envs/stats/lib/python3.7/site-packages/tqdm/utils.py:193(_is_utf)\n",
      "        3    0.000    0.000    0.000    0.000 {method 'difference' of 'set' objects}\n",
      "        3    0.000    0.000    0.000    0.000 {built-in method builtins.min}\n",
      "        3    0.000    0.000    0.000    0.000 {built-in method __new__ of type object at 0x10ac66568}\n",
      "        3    0.000    0.000    0.000    0.000 {method 'disable' of '_lsprof.Profiler' objects}\n",
      "        3    0.000    0.000    0.000    0.000 /opt/miniconda3/envs/stats/lib/python3.7/site-packages/tqdm/utils.py:223(_screen_shape_wrapper)\n",
      "        6    0.000    0.000    0.000    0.000 /opt/miniconda3/envs/stats/lib/python3.7/_weakrefset.py:52(_commit_removals)\n",
      "\n",
      "\n",
      "\n"
     ]
    }
   ],
   "source": [
    "s = io.StringIO()\n",
    "sortby = SortKey.CUMULATIVE\n",
    "ps = pstats.Stats(pr, stream=s).sort_stats(sortby)\n",
    "ps.print_stats()\n",
    "print(s.getvalue())"
   ]
  },
  {
   "cell_type": "markdown",
   "metadata": {},
   "source": [
    "## Unused code"
   ]
  },
  {
   "cell_type": "code",
   "execution_count": null,
   "metadata": {},
   "outputs": [],
   "source": [
    "def jaccard_distance(A, B):\n",
    "    return 1 - len(A.intersection(B)) / len(A.union(B))\n",
    "\n",
    "    \n",
    "def distance_matrix(X):\n",
    "    '''Returns an upper-triangular matrix of hamming distances based on bit arrays'''\n",
    "    n = len(X)\n",
    "    distances = np.zeros((n,n)) # initialize \n",
    "    coords = np.triu_indices(n, 1, n)\n",
    "    for i,j in tqdm(zip(coords[0], coords[1])):\n",
    "        distances[i,j] = hamming_array_distance(X[i], X[j])\n",
    "    return distances\n",
    "\n",
    "def jaccard_array_distance(x, y):\n",
    "    and_array = np.bitwise_and(x, y)\n",
    "    or_array = np.bitwise_or(x, y)\n",
    "    return 1 - one_bits(and_array) / one_bits(or_array)\n",
    "\n",
    "def hamming_array_distance(x, y):\n",
    "    '''Assumes x and y are equal length'''\n",
    "    return one_bits(np.bitwise_xor(x, y))\n",
    "\n",
    "\n",
    "def one_bits(x):\n",
    "    '''Returns number of one bits in an array'''\n",
    "    return sum([bin(entry).count(\"1\") for entry in x])\n",
    "\n",
    "def bit_intersection(x, y):\n",
    "    return one_bits(np.bitwise_and(x, y))"
   ]
  },
  {
   "cell_type": "code",
   "execution_count": null,
   "metadata": {},
   "outputs": [],
   "source": []
  }
 ],
 "metadata": {
  "kernelspec": {
   "display_name": "Python [conda env:stats]",
   "language": "python",
   "name": "conda-env-stats-py"
  },
  "language_info": {
   "codemirror_mode": {
    "name": "ipython",
    "version": 3
   },
   "file_extension": ".py",
   "mimetype": "text/x-python",
   "name": "python",
   "nbconvert_exporter": "python",
   "pygments_lexer": "ipython3",
   "version": "3.7.7"
  }
 },
 "nbformat": 4,
 "nbformat_minor": 4
}
